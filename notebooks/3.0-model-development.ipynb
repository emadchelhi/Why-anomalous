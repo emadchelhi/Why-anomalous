{
 "cells": [
  {
   "cell_type": "code",
   "execution_count": 1,
   "metadata": {},
   "outputs": [],
   "source": [
    "from anomaly_detection import config, dataset, features\n",
    "import numpy as np\n",
    "import seaborn as sns\n",
    "\n",
    "# set seed for reproducibility\n",
    "np.random.seed(42)"
   ]
  },
  {
   "cell_type": "code",
   "execution_count": 2,
   "metadata": {},
   "outputs": [
    {
     "name": "stdout",
     "output_type": "stream",
     "text": [
      "Data successfully loaded from /Users/emadchelhi/Desktop/git_repos/Why-anomalous/data/raw/Wholesale customers data.csv.\n"
     ]
    }
   ],
   "source": [
    "file_path = '/Users/emadchelhi/Desktop/git_repos/Why-anomalous/data/raw/Wholesale customers data.csv'\n",
    "\n",
    "# load the data\n",
    "tab_df = dataset.load_data(file_path)"
   ]
  },
  {
   "cell_type": "code",
   "execution_count": 3,
   "metadata": {},
   "outputs": [],
   "source": [
    "# excluding the categorical columns\n",
    "del tab_df['Channel']\n",
    "del tab_df['Region']"
   ]
  },
  {
   "cell_type": "code",
   "execution_count": 4,
   "metadata": {},
   "outputs": [],
   "source": [
    "# log-transform the data\n",
    "tab_df = features.logarithm(tab_df, 100)"
   ]
  },
  {
   "cell_type": "markdown",
   "metadata": {},
   "source": [
    "### Outlier detection model"
   ]
  },
  {
   "cell_type": "markdown",
   "metadata": {},
   "source": [
    "Knowing that the number of neighbors determines whether the model is robust or not (reproducible), we decided, under suggestion, to calculate, for each point, the distance to all other points and, instead, of using the minimum distance or an average one, we used the soft-minimum distance, that smoothly incorporates the effect of all distances weighting more closer neighbors."
   ]
  },
  {
   "cell_type": "code",
   "execution_count": 5,
   "metadata": {},
   "outputs": [
    {
     "name": "stdout",
     "output_type": "stream",
     "text": [
      "8.109803921568627\n",
      "1.0000000000000002\n",
      "Gamma:  0.0001  Metric:  8.109803921568625\n",
      "8.109803921568627\n",
      "1.0\n",
      "Gamma:  0.001  Metric:  8.109803921568627\n",
      "8.109803921568627\n",
      "1.0\n",
      "Gamma:  0.01  Metric:  8.109803921568627\n",
      "8.109803921568627\n",
      "1.0\n",
      "Gamma:  0.1  Metric:  8.109803921568627\n",
      "8.109803921568627\n",
      "1.0\n",
      "Gamma:  1.0  Metric:  8.109803921568627\n",
      "7.41960784313725\n",
      "1.0\n",
      "Gamma:  10.0  Metric:  7.41960784313725\n",
      "15.356862745098042\n",
      "0.9999999999999999\n",
      "Gamma:  100.0  Metric:  15.356862745098043\n"
     ]
    }
   ],
   "source": [
    "import pandas as pd\n",
    "import matplotlib.pyplot as plt\n",
    "from sklearn.model_selection import train_test_split\n",
    "from sklearn.utils import resample\n",
    "from sklearn.neighbors import NearestNeighbors\n",
    "\n",
    "\n",
    "def soft_min(scores, gamma):\n",
    "    softmin = (-1 / gamma) * (np.log((1 / (len(scores) - 1)) * np.sum(np.exp(-gamma * scores))))\n",
    "    return softmin\n",
    "\n",
    "def compute_anomaly_scores(train_data, test_data, gamma):\n",
    "    # Fit nearest neighbors model on the training data\n",
    "    nbrs = NearestNeighbors(n_neighbors=len(train_data), algorithm='ball_tree').fit(train_data)\n",
    "\n",
    "    # Calculate distances to nearest neighbors on the test data\n",
    "    distances, _ = nbrs.kneighbors(test_data)\n",
    "\n",
    "    # Calculate softmin-based anomaly scores\n",
    "    anomaly_scores = []\n",
    "    for i in range(len(distances)):\n",
    "        scores = distances[i][:-1]\n",
    "        anomaly_score = soft_min(scores, gamma)\n",
    "        anomaly_scores.append(anomaly_score)\n",
    "\n",
    "\n",
    "    return np.array(anomaly_scores)\n",
    "\n",
    "# Set gamma values\n",
    "gamma_values = np.logspace(-4, 2, 7)\n",
    "\n",
    "# Split data into training and test sets\n",
    "train_data, test_data = train_test_split(tab_df, test_size=0.2, random_state=74)\n",
    "\n",
    "# Iterate over each gamma value\n",
    "for gamma in gamma_values:\n",
    "    # Initialize arrays to store mean and deviation of each datapoint across bootstraps\n",
    "    mean_scores = np.zeros(len(test_data))\n",
    "    deviation_scores = np.zeros(len(test_data))\n",
    "\n",
    "    # Bootstrap and evaluate\n",
    "    for _ in range(100):  # Perform 100 bootstraps\n",
    "        # Bootstrap the training data\n",
    "        bootstrapped_train_data = resample(train_data, replace=True, n_samples=np.ceil(0.7 * len(train_data)).astype(int))\n",
    "        # Compute anomaly scores on the test data using bootstrapped training data\n",
    "        anomaly_scores = compute_anomaly_scores(bootstrapped_train_data, test_data, gamma)\n",
    "\n",
    "        # Accumulate anomaly scores for each datapoint\n",
    "        mean_scores += anomaly_scores\n",
    "        deviation_scores += anomaly_scores ** 2\n",
    "\n",
    "    # Calculate mean and deviation of each datapoint across bootstraps\n",
    "    mean_scores /= 100\n",
    "    deviation_scores /= 100\n",
    "    deviation_scores -= mean_scores ** 2\n",
    "    deviation_scores = np.sqrt(deviation_scores)\n",
    "\n",
    "    # Normalize the mean and deviation scores\n",
    "    mean_scores_norm = (mean_scores - np.mean(mean_scores)) / np.std(mean_scores)\n",
    "    deviation_scores_norm = (deviation_scores - np.mean(deviation_scores)) / np.std(deviation_scores)\n",
    "\n",
    "    # Calculate metric that benefits low deviation and high difference in mean between normal and anomalous data\n",
    "    outliers = np.where(mean_scores_norm > np.percentile(mean_scores_norm, 97))[0]\n",
    "    non_outliers = np.where(mean_scores_norm <= np.percentile(mean_scores_norm, 97))[0]\n",
    "    metric = np.mean(np.abs(np.mean(outliers) - np.mean(non_outliers))) / np.mean((deviation_scores_norm)**2)\n",
    "    print(np.mean(np.abs(np.mean(outliers) - np.mean(non_outliers))))\n",
    "    print(np.mean((deviation_scores_norm)**2))\n",
    "    print(\"Gamma: \", gamma, \" Metric: \", metric)\n",
    "\n",
    "    # Plotting\n",
    "    sorted_indices = np.argsort(mean_scores)\n",
    "    mean_scores = mean_scores[sorted_indices]\n",
    "    deviation_scores = deviation_scores[sorted_indices]\n",
    "    plt.figure(figsize=(10, 8))\n",
    "    plt.errorbar(range(len(mean_scores)), mean_scores, yerr=deviation_scores, fmt='o', markersize=3)\n",
    "    plt.xlabel('Data Point')\n",
    "    plt.ylabel('Anomaly Score')\n",
    "    plt.title(f'Anomaly Scores for Gamma={gamma:.5f}')\n",
    "    plt.savefig(f'anomaly_scores_gamma_{gamma:.5f}.png')\n",
    "    plt.close()"
   ]
  },
  {
   "cell_type": "markdown",
   "metadata": {},
   "source": [
    "**Rq**: gamma is a positive constant that controls the sharpness of the approximation. Higher values of gamma make the approximation closer to the true minimum, while lower values make it more \"soft\" or smoothed.\n",
    "\n",
    "\n",
    "In the formula of the soft-min distance, there is a hyper-parameter (gamma) that controls the approximation, that we had to tune. \n",
    "\n",
    "\n",
    "For each gamma we tried (gamma_values = np.logspace(-4, 2, 7)), we performed 100 bootstraps (with repetition) and computed mean and variance of each instance. Then through the formalization of a metric to evaluate and visual inspection, we chose gamma=0.01, that returned the biggest difference/ distance between anomalous and non anomalous records and smallest variance among the 100 samples. \n",
    "\n",
    "\n",
    "Let's analyze the custom evaluation metric. As said we're searching for the max separation between outliers and non-outliers so at the numerator we measured the difference between the anomalies mean and non-anomalies one. We the adjusted it with the mean quadratic normalized deviation. We searched for the highest metric's result."
   ]
  },
  {
   "cell_type": "code",
   "execution_count": 6,
   "metadata": {},
   "outputs": [],
   "source": [
    "gamma = 0.01\n",
    "anomaly_scores = compute_anomaly_scores(tab_df, tab_df, gamma)"
   ]
  },
  {
   "cell_type": "markdown",
   "metadata": {},
   "source": [
    "### Explainability"
   ]
  },
  {
   "cell_type": "markdown",
   "metadata": {},
   "source": [
    "At this point, we reconsidered the 2 categorical features removed at the beginning and tried to inspect how anomalies spread among regions and retailers. We discovered that most anomalous spending behaviors come from other regions and from the hotel, restaurant and café business."
   ]
  },
  {
   "cell_type": "code",
   "execution_count": 7,
   "metadata": {},
   "outputs": [
    {
     "name": "stdout",
     "output_type": "stream",
     "text": [
      "Data successfully loaded from /Users/emadchelhi/Desktop/git_repos/Why-anomalous/data/raw/Wholesale customers data.csv.\n"
     ]
    },
    {
     "data": {
      "image/png": "[encoded data removed]",
      "text/plain": [
       "<Figure size 1200x800 with 1 Axes>"
      ]
     },
     "metadata": {},
     "output_type": "display_data"
    },
    {
     "name": "stderr",
     "output_type": "stream",
     "text": [
      "/var/folders/1x/nt297b5d1n771twhnkz_vs_80000gn/T/ipykernel_24885/4269836696.py:34: DeprecationWarning: DataFrameGroupBy.apply operated on the grouping columns. This behavior is deprecated, and in a future version of pandas the grouping columns will be excluded from the operation. Either pass `include_groups=False` to exclude the groupings or explicitly select the grouping columns after groupby to silence this warning.\n",
      "  outliers = meta_data.groupby(['Channel', 'Region']).apply(find_outliers).reset_index(drop=True)\n"
     ]
    }
   ],
   "source": [
    "# Use the channel and region data to see if there is a relation between the anomalies and the meta-data\n",
    "\n",
    "# Load the meta-data\n",
    "file_path = '/Users/emadchelhi/Desktop/git_repos/Why-anomalous/data/raw/Wholesale customers data.csv'\n",
    "meta_data = dataset.load_data(file_path)\n",
    "\n",
    "# Replace numerical values with string labels\n",
    "channel_names = {1: 'Horeca', 2: 'Retail'}\n",
    "region_names = {1: 'Lisbon', 2: 'Porto', 3: 'Others'}\n",
    "meta_data['Channel'] = meta_data['Channel'].replace(channel_names)\n",
    "meta_data['Region'] = meta_data['Region'].replace(region_names)\n",
    "\n",
    "# Add the anomaly scores to the meta-data\n",
    "meta_data['Anomaly Score'] = anomaly_scores\n",
    "meta_data['Original Index'] = meta_data.index\n",
    "\n",
    "# Plot the distribution of anomaly scores for each group in box plots\n",
    "plt.figure(figsize=(12, 8))\n",
    "sns.boxplot(x='Channel', y='Anomaly Score', hue='Region', data=meta_data)\n",
    "plt.title('Anomaly Scores by Channel and Region')\n",
    "plt.savefig('anomaly_scores_channel_region.png')\n",
    "plt.show()\n",
    "plt.close()\n",
    "\n",
    "# Identify outliers using the IQR method for each group\n",
    "def find_outliers(group):\n",
    "    Q1 = group['Anomaly Score'].quantile(0.25)\n",
    "    Q3 = group['Anomaly Score'].quantile(0.75)\n",
    "    IQR = Q3 - Q1\n",
    "    outliers = group[(group['Anomaly Score'] < (Q1 - 1.5 * IQR)) | (group['Anomaly Score'] > (Q3 + 1.5 * IQR))]\n",
    "    return outliers\n",
    "\n",
    "# Apply the function to each group\n",
    "outliers = meta_data.groupby(['Channel', 'Region']).apply(find_outliers).reset_index(drop=True)\n",
    "\n",
    "# Sort the anomalies by Channel and Region\n",
    "outliers_grouped = outliers.sort_values(by=['Channel', 'Region'])\n",
    "\n",
    "# Save the anomalies to a CSV file\n",
    "outliers_grouped.to_csv('anomalies_by_channel_region.csv', index=False)"
   ]
  },
  {
   "cell_type": "markdown",
   "metadata": {},
   "source": [
    "We then tried to explain the otlierness values obtained.\n",
    "We did this through the 'neuralization - propagation' framework (from: G. Montavon, J. R. Kauffmann, W. Samek, and K.-R. Müller. Explaining the Predictions of Unsupervised Learning Models, volume 13200 of Lecture Notes in Computer Science, pages 117–138. Springer, 2020.)\n",
    "\n",
    "\n",
    " It consists of rewriting the unsupervised model as an equivalent functional neural network and then apply LRP to provide explanations of the model predictions. \n"
   ]
  },
  {
   "cell_type": "code",
   "execution_count": 8,
   "metadata": {},
   "outputs": [
    {
     "data": {
      "application/vnd.plotly.v1+json": {
       "config": {
        "plotlyServerURL": "https://plot.ly"
       },
       "data": [
        {
         "customdata": [
          [
           0,
           1.46222764155843,
           0.18379499300312865,
           0,
           0.17685412061126707,
           0.14797493630816358,
           0.0967528263419762,
           0.29353793329675765,
           0.19919310840617788,
           0.08568707503565758
          ],
          [
           1,
           -0.15242411577132087,
           0.09072168310867051,
           1,
           0.1692712744149531,
           0.179231400928028,
           0.13515039153246072,
           0.12234263243751345,
           0.26880116147119587,
           0.12520313921584889
          ],
          [
           2,
           -0.854976962849378,
           0.23180401340331447,
           2,
           0.1269508758094603,
           0.12275945377584897,
           0.0884930905037512,
           0.10312320198204407,
           0.21242875052523438,
           0.346244627403661
          ],
          [
           3,
           -0.6283789252489773,
           0.11752995632178166,
           3,
           0.18397530821695282,
           0.17029537832737127,
           0.09428829124177278,
           0.24352694472662642,
           0.1944925750111304,
           0.11342150247614637
          ],
          [
           4,
           -0.2455740110992095,
           0.18420608305614355,
           4,
           0.2385791038796363,
           0.09259477718120385,
           0.09290142919184019,
           0.14887072003369262,
           0.16360268747629544,
           0.2634512822373316
          ],
          [
           5,
           0.6151904973706918,
           0.05749482360141574,
           5,
           0.19654030431520994,
           0.17003318545660553,
           0.11304504207388692,
           0.1843942950944797,
           0.21891616815139417,
           0.11707100490842355
          ],
          [
           6,
           1.3873871722717128,
           0.09622098542361655,
           6,
           0.20551228271653083,
           0.10207368732897285,
           0.11257334335208528,
           0.20990424989032247,
           0.26391910049831596,
           0.10601733621377263
          ],
          [
           7,
           -0.12749044642588891,
           0.08090852282904842,
           7,
           0.17412377908292737,
           0.11046931027290038,
           0.13741813919089022,
           0.12366728018374448,
           0.27724855930874015,
           0.17707293196079749
          ],
          [
           8,
           0.8122678838346623,
           0.05004768167061935,
           8,
           0.1874533208277062,
           0.1125490207106468,
           0.12036424657761642,
           0.25428875943447615,
           0.2223167377135974,
           0.10302791473595706
          ],
          [
           9,
           0.048186711429208495,
           0.22692095629166276,
           9,
           0.12925839218735988,
           0.14785785155825854,
           0.1800260187083314,
           0.09661016182315138,
           0.3368327237355663,
           0.10941485198733251
          ],
          [
           10,
           -1.0865012576378383,
           0.19157887739231136,
           10,
           0.16437251619666346,
           0.09284061608733667,
           0.14318904580342126,
           0.17279625498016588,
           0.3245234992176582,
           0.10227806771475458
          ],
          [
           11,
           0.6980254220089674,
           0.04906352082446954,
           11,
           0.21967796138588722,
           0.2078652121611602,
           0.10941372805579094,
           0.12542430836648039,
           0.22159374039259053,
           0.11602504963809065
          ],
          [
           12,
           1.7299843692387964,
           0.3208439131492893,
           12,
           0.24992199125978942,
           0.13981598861851818,
           0.10141257414372444,
           0.19438890745759171,
           0.18939916362928214,
           0.12506137489109417
          ],
          [
           13,
           0.6585937127635345,
           0.22049931516508356,
           13,
           0.22392064383211907,
           0.09424911717532171,
           0.15239216329095304,
           0.12158112108932066,
           0.3274389094579196,
           0.08041804515436594
          ],
          [
           14,
           1.6966521133254988,
           0.28152135080257135,
           14,
           0.22560156439011705,
           0.11758464523165134,
           0.1111707176740593,
           0.203640674028781,
           0.24028338340863692,
           0.10171901526675438
          ],
          [
           15,
           1.3814949494781392,
           0.10798730095012825,
           15,
           0.179549710101167,
           0.19172179266191605,
           0.10383578388899874,
           0.2293068871312743,
           0.17695487381450703,
           0.11863095240213681
          ],
          [
           16,
           0.17153624994429006,
           0.34287119800469495,
           16,
           0.25891151584545796,
           0.10229683552697386,
           0.10245575176602263,
           0.27227433410218005,
           0.2037453741403766,
           0.06031618861898904
          ],
          [
           17,
           -0.3309767613280752,
           0.1458894451071817,
           17,
           0.148174987674569,
           0.11352655003037451,
           0.11219583085227128,
           0.13277783983660066,
           0.23171891495622493,
           0.2616058766499596
          ],
          [
           18,
           0.18502301751098216,
           0.13511285516995034,
           18,
           0.23497416256552914,
           0.11216858410022054,
           0.12774902721644393,
           0.11646165178781073,
           0.2200493620951471,
           0.18859721223484854
          ],
          [
           19,
           0.9246547547068682,
           0.06900412109345365,
           19,
           0.18476098834575178,
           0.12008164337628718,
           0.14698798778763505,
           0.1786520632168673,
           0.2501663229451559,
           0.11935099432830265
          ],
          [
           20,
           0.7124613645202307,
           0.0670989481293881,
           20,
           0.2621925004709108,
           0.10934311063641927,
           0.10930194204752153,
           0.1362987159412821,
           0.23132090677414233,
           0.15154282412972403
          ],
          [
           21,
           -0.477503500962303,
           0.09866467776524611,
           21,
           0.15409012193513844,
           0.22343051741050088,
           0.14906537874264125,
           0.15252607412639899,
           0.22660802152042028,
           0.09427988626490001
          ],
          [
           22,
           -0.42938550925038,
           0.2817419502082952,
           22,
           0.24611983472103977,
           0.09072379628352721,
           0.07107430260431845,
           0.2487738080919232,
           0.15577083852629595,
           0.18753741977289534
          ],
          [
           23,
           -0.7116590436528039,
           0.6087334960519144,
           23,
           0.13679392801031853,
           0.21650459361730776,
           0.11141173720743866,
           0.09608370938207896,
           0.12902909328502787,
           0.3101769384978282
          ],
          [
           24,
           -0.015419678462536668,
           0.2909250955015202,
           24,
           0.20153479723641848,
           0.11821671751389454,
           0.12236582327281106,
           0.10154899664082986,
           0.21848880140839377,
           0.23784486392765225
          ],
          [
           25,
           2.4630292962310163,
           0.31294685461709065,
           25,
           0.16503127724023076,
           0.0679610446797745,
           0.0778812874988714,
           0.23664020984948592,
           0.20246693402813634,
           0.250019246703501
          ],
          [
           26,
           -0.20535963421372228,
           0.08729104717842114,
           26,
           0.1674612929787197,
           0.20771561905314131,
           0.11468310873790746,
           0.1448252416941059,
           0.2810255116080117,
           0.08428922592811393
          ],
          [
           27,
           1.238765507224596,
           0.2153862401597551,
           27,
           0.16413752389008607,
           0.18914343552914598,
           0.08742335444216062,
           0.15884249913712262,
           0.3215643404421059,
           0.07888884655937878
          ],
          [
           28,
           -0.5030612012276032,
           0.39998754435276973,
           28,
           0.10482626923784955,
           0.18813400745273143,
           0.1749164582467743,
           0.07299251201947085,
           0.27316771934850576,
           0.18596303369466813
          ],
          [
           29,
           1.482144207865943,
           0.1281089187821593,
           29,
           0.41513815414118493,
           0.10855151433224516,
           0.12034223053632637,
           0.11146516098098525,
           0.1637093963333563,
           0.08079354367590207
          ],
          [
           30,
           0.6301835681834815,
           0.1152348736034471,
           30,
           0.2491470666448431,
           0.09539626667487988,
           0.1461174923309402,
           0.12033847398605603,
           0.20305563760188208,
           0.18594506276139874
          ],
          [
           31,
           -0.8471697145933703,
           0.03230487401433978,
           31,
           0.26285606271224493,
           0.12181765642672389,
           0.14017525550329266,
           0.1466853691712852,
           0.22205644380186895,
           0.10640921238458445
          ],
          [
           32,
           2.0615735564791953,
           0.17793405883038668,
           32,
           0.24209654286072035,
           0.14240274744898535,
           0.10291748478233623,
           0.2567265252080335,
           0.15241248622352,
           0.1034442134764046
          ],
          [
           33,
           -0.055562196825054144,
           0.15804104684968925,
           33,
           0.29579899968767215,
           0.09166111199317115,
           0.09909586437591397,
           0.21863620009259843,
           0.21638679304761688,
           0.07842103080302741
          ],
          [
           34,
           -0.013150362595029219,
           0.17542347642121067,
           34,
           0.2728080138112013,
           0.10640341652399982,
           0.12783903868026794,
           0.19242733326076084,
           0.19283003563114545,
           0.10769216209262476
          ],
          [
           35,
           -0.6965850795075101,
           0.26566055252160575,
           35,
           0.3802921077905176,
           0.08359406158091279,
           0.11164031725320718,
           0.10501531258173774,
           0.22928882743090812,
           0.09016937336271653
          ],
          [
           36,
           0.42177074254448693,
           0.15661333445622957,
           36,
           0.3054870924964862,
           0.08897503448191094,
           0.08916886879502121,
           0.10285552787816878,
           0.16144275601263544,
           0.2520707203357775
          ],
          [
           37,
           0.6442557897066544,
           0.1889254358107635,
           37,
           0.19107173311514372,
           0.15475269532821143,
           0.13587604225631233,
           0.10175505487433226,
           0.33757640541199496,
           0.07896806901400533
          ],
          [
           38,
           1.7601412495511435,
           0.43749831103188075,
           38,
           0.09639873774274658,
           0.1456480635177484,
           0.1145008149005261,
           0.3476146334190548,
           0.22791950832820956,
           0.06791824209171432
          ],
          [
           39,
           -0.14951622253040875,
           0.4711655119230103,
           39,
           0.2598348847846297,
           0.1638775159849827,
           0.14828976027498433,
           0.1834781604265849,
           0.14849680890615505,
           0.09602286962266311
          ],
          [
           40,
           -0.8568082120621126,
           0.2582887473770456,
           40,
           0.21110868277230607,
           0.07343089947635817,
           0.07313420201142182,
           0.26033874668366047,
           0.1297192696697269,
           0.2522681993865267
          ],
          [
           41,
           0.3385841391885607,
           0.09604910804146297,
           41,
           0.25871344973952554,
           0.10130122941075466,
           0.10384902436898223,
           0.12171653286635489,
           0.23176793166587945,
           0.18265183194850315
          ],
          [
           42,
           2.2798528777645366,
           0.398711414504373,
           42,
           0.11565332725407942,
           0.0815484277434997,
           0.11274349102451993,
           0.211461303405259,
           0.24534707205961903,
           0.2332463785130227
          ],
          [
           43,
           -0.3034259443163496,
           0.5107161378992572,
           43,
           0.2642462316357673,
           0.09593688300046098,
           0.14287170659371443,
           0.07155469811353381,
           0.2518241908788032,
           0.17356628977772032
          ],
          [
           44,
           1.5906240967188576,
           0.2566969051729594,
           44,
           0.13823798191723802,
           0.09973683510016616,
           0.10738473013830133,
           0.14065020658454774,
           0.2444351447230514,
           0.2695551015366954
          ],
          [
           45,
           -0.6166624647095591,
           0.3646082227756063,
           45,
           0.10392824159329374,
           0.21264220072342369,
           0.1578750016326648,
           0.0745149085826655,
           0.26230985300791054,
           0.18872979446004173
          ],
          [
           46,
           -0.5253637211236317,
           0.25292614660902685,
           46,
           0.15166474137266908,
           0.17684513483161204,
           0.1977956016609419,
           0.08959051481924854,
           0.3046421729389793,
           0.07946183437654923
          ],
          [
           47,
           -0.14360169208379414,
           0.8539255522662613,
           47,
           0.14720249523110346,
           0.20372818954388813,
           0.16602757225281095,
           0.10037950923691094,
           0.2678155187334898,
           0.11484671500179673
          ],
          [
           48,
           0.9783370034146535,
           0.14380286412369372,
           48,
           0.17969448500747626,
           0.10826343574577947,
           0.13294337329276087,
           0.16548105810290664,
           0.3161472141385205,
           0.09747043371255625
          ],
          [
           49,
           -0.14367161640264614,
           0.38284432070377655,
           49,
           0.10195817415828043,
           0.2001826035483933,
           0.1961001874524617,
           0.07269850702809467,
           0.3722752132593406,
           0.05678531455342929
          ],
          [
           50,
           -0.8314710927537874,
           0.10257315212336111,
           50,
           0.15386774704874445,
           0.19033198014043354,
           0.15537637956335681,
           0.16976318994035985,
           0.18924314706152018,
           0.14141755624558522
          ],
          [
           51,
           0.938956373102074,
           0.1463034731767125,
           51,
           0.1809064171290211,
           0.09391961179692451,
           0.10444586914140616,
           0.2977083309507704,
           0.17829455639896397,
           0.14472521458291374
          ],
          [
           52,
           1.8550961646907875,
           0.1756306696269485,
           52,
           0.3791111274746879,
           0.08453696018226135,
           0.08839819491253445,
           0.16691129732060409,
           0.1981386029381224,
           0.08290381717178982
          ],
          [
           53,
           -0.6791475878892186,
           0.38676376157747155,
           53,
           0.36816489145167103,
           0.11250516771343663,
           0.09199401866775424,
           0.09014156870780832,
           0.22000931893458894,
           0.11718503452474086
          ],
          [
           54,
           0.44811766591707825,
           0.1451444787891674,
           54,
           0.2747206651541046,
           0.12971770887212233,
           0.1353880136206361,
           0.10868508803067528,
           0.26697733256388445,
           0.08451119175857717
          ],
          [
           55,
           0.1124548497120621,
           0.005891748144911384,
           55,
           0.20854668191955134,
           0.1246585946827835,
           0.12861426030842288,
           0.16005121497204033,
           0.2610003660195467,
           0.11712888209765522
          ],
          [
           56,
           -0.5388041394051404,
           0.4631307730992396,
           56,
           0.09514793167823216,
           0.23042662534969716,
           0.1613864481425774,
           0.07552786187008462,
           0.384054324303234,
           0.05345680865617462
          ],
          [
           57,
           1.5885834625399098,
           0.3728894460427818,
           57,
           0.10323735227432002,
           0.10607688454253598,
           0.08478343675552373,
           0.3769714047680601,
           0.2684284950440606,
           0.06050242661549947
          ],
          [
           58,
           1.139091429449865,
           0.1302677886130175,
           58,
           0.18828964728931935,
           0.1079093640234175,
           0.1661765198489024,
           0.16102219963945688,
           0.27252738364067014,
           0.10407488555823388
          ],
          [
           59,
           1.2037442124285183,
           0.19774205380388252,
           59,
           0.13885610511149676,
           0.09172566045598445,
           0.0985538134279716,
           0.3638764828439006,
           0.211550739785894,
           0.09543719837475258
          ],
          [
           60,
           2.127446584973617,
           0.2725730354159205,
           60,
           0.12914978127515114,
           0.0738080769960665,
           0.08558467481229338,
           0.35198893436275447,
           0.22106317092421635,
           0.13840536162951822
          ],
          [
           61,
           0.6738218179477375,
           0.7138375439412143,
           61,
           0.15436734734930085,
           0.19147361431497592,
           0.2084167150379335,
           0.06043859023799385,
           0.3361630022809761,
           0.04914073077881979
          ],
          [
           62,
           -0.3904856999195283,
           0.09605279237567783,
           62,
           0.17003224881835904,
           0.12412687332395837,
           0.1089219156786407,
           0.19586003444037278,
           0.3091981902595329,
           0.09186073747913613
          ],
          [
           63,
           -0.08570640878249147,
           0.21971994053630825,
           63,
           0.1403995200730698,
           0.15707004240843517,
           0.1560457132897409,
           0.11725445944056802,
           0.35145973443650363,
           0.07777053035168242
          ],
          [
           64,
           -0.722677249517055,
           0.057064542152351946,
           64,
           0.1835032431434889,
           0.2000394811238467,
           0.12540384652064207,
           0.19024747497336472,
           0.19877200303452863,
           0.10203395120412895
          ],
          [
           65,
           -0.5949935326563072,
           0.9430828495413124,
           65,
           0.32920097538801046,
           0.09269804686629068,
           0.13213799232794612,
           0.17301732724828106,
           0.2418860128292982,
           0.03105964534017353
          ],
          [
           66,
           -0.6893151572564569,
           0.7502517362480261,
           66,
           0.5236698184578791,
           0.05587940480496046,
           0.041407309626178036,
           0.12816521358424712,
           0.09864744825252397,
           0.15223080527421132
          ],
          [
           67,
           1.049490761705887,
           0.1610995627507533,
           67,
           0.24090878102332403,
           0.11184918830416982,
           0.1546042504005073,
           0.10667664474094864,
           0.3062975738382452,
           0.07966356169280507
          ],
          [
           68,
           -1.9325737582775613,
           0.16675281017476848,
           68,
           0.20710747383144693,
           0.12440778493959607,
           0.09402306212545258,
           0.22486759343935372,
           0.16892407817223937,
           0.1806700074919113
          ],
          [
           69,
           0.9817667597859221,
           0.13566129005757208,
           69,
           0.1550607095382671,
           0.09305940459186589,
           0.21343549201008885,
           0.13614805508790556,
           0.1773888258444449,
           0.22490751292742772
          ],
          [
           70,
           -0.9024397517267804,
           0.22493458587923404,
           70,
           0.16797199658699208,
           0.0881229496304908,
           0.08266694054909561,
           0.29064160672731254,
           0.2956550199826326,
           0.07494148652347636
          ],
          [
           71,
           -0.6830003135892191,
           0.46738921898933944,
           71,
           0.12893785650861508,
           0.099955210460035,
           0.13783984150937795,
           0.12044166415383672,
           0.15933009831559183,
           0.35349532905254333
          ],
          [
           72,
           -0.9687800304754357,
           0.18505432600571375,
           72,
           0.14612651592396864,
           0.0949366496463084,
           0.11212789301475383,
           0.301781503026496,
           0.15632425040379735,
           0.18870318798467578
          ],
          [
           73,
           -0.2871332384319636,
           0.1449632464456394,
           73,
           0.23526863875223694,
           0.10091338130769718,
           0.11531785493767228,
           0.29112161668144276,
           0.1701865059830667,
           0.08719200233788406
          ],
          [
           74,
           0.10561289509698668,
           0.041208929677391884,
           74,
           0.19409746206682002,
           0.14081225425145788,
           0.15618164818481975,
           0.13790461018250738,
           0.23040826968458877,
           0.14059575562980622
          ],
          [
           75,
           -0.17871353104517929,
           0.666856488555795,
           75,
           0.09900061766710605,
           0.0671624245634922,
           0.49689500695395405,
           0.07274229593848063,
           0.23042504056289698,
           0.03377461431407018
          ],
          [
           76,
           -2.4713401415012717,
           0.2639390628804466,
           76,
           0.3796427597869336,
           0.07439970577398469,
           0.08134222377085819,
           0.2355503147057739,
           0.16216954811404086,
           0.06689544784840873
          ],
          [
           77,
           0.9571289316697993,
           0.33831298773787577,
           77,
           0.13168229974864773,
           0.13606348708465918,
           0.2101468565797387,
           0.0901703788639889,
           0.3734452078261761,
           0.05849176989678931
          ],
          [
           78,
           0.5052513624620989,
           0.1327384071193267,
           78,
           0.1625729709366668,
           0.16079798913275978,
           0.13498917834976454,
           0.1078857726993863,
           0.23377679027529352,
           0.19997729860612906
          ],
          [
           79,
           -0.6885768046262384,
           0.09152850801551983,
           79,
           0.31408347818240345,
           0.10518327172204649,
           0.11610424548050884,
           0.14696814573452024,
           0.1932185067179417,
           0.12444235216257916
          ],
          [
           80,
           0.9905590116250285,
           0.1185042894564541,
           80,
           0.15573680219546662,
           0.23498069457577409,
           0.11229797724980099,
           0.21102917871022858,
           0.18877775654237766,
           0.09717759072635206
          ],
          [
           81,
           -0.44481113225245794,
           0.5685802839779551,
           81,
           0.3965703849005362,
           0.07765365078214856,
           0.08374044509423977,
           0.12694858988182092,
           0.2048014540894139,
           0.11028547525184071
          ],
          [
           82,
           0.5590541933675943,
           0.13792122807482843,
           82,
           0.17175848886093342,
           0.15213830639740675,
           0.13574901029780617,
           0.14443698212630124,
           0.2522411541231313,
           0.143676058194421
          ],
          [
           83,
           0.548573332987086,
           0.07280320392910537,
           83,
           0.2685060402018621,
           0.14405908851841176,
           0.17356149763357367,
           0.12498476587705161,
           0.20077602623423274,
           0.08811258153486821
          ],
          [
           84,
           1.2106753514545587,
           0.15241352352200663,
           84,
           0.18136596259849083,
           0.09091662770190312,
           0.09364374881521634,
           0.11091500806969844,
           0.2699205686694825,
           0.253238084145209
          ],
          [
           85,
           0.7890471100463821,
           0.804792391675049,
           85,
           0.08235373079056438,
           0.19364377654972756,
           0.2474732721048684,
           0.04408022215265435,
           0.3699325964985688,
           0.06251640190361656
          ],
          [
           86,
           1.2581506331921006,
           0.6467837125352877,
           86,
           0.12581799311067585,
           0.3262666956749803,
           0.14227032078118,
           0.05427395240078845,
           0.3139277707386445,
           0.03744326729373095
          ],
          [
           87,
           -0.4463924141055702,
           0.4146835709559486,
           87,
           0.24788220733342653,
           0.05962631615171314,
           0.0666313245027355,
           0.1447975448036658,
           0.10567756291731716,
           0.375385044291142
          ],
          [
           88,
           -0.4935636373501684,
           0.3757741373239791,
           88,
           0.09607501524062599,
           0.19545708818514324,
           0.06019159621354102,
           0.22005758474950637,
           0.20111212056467173,
           0.22710659504651168
          ],
          [
           89,
           -0.08305421553382031,
           0.1280852538328552,
           89,
           0.27674137598443355,
           0.09058668584635043,
           0.09280614530077841,
           0.14610952353936607,
           0.2064258852295436,
           0.18733038409952785
          ],
          [
           90,
           0.010087048268003551,
           0.24788767769372094,
           90,
           0.13070377814968295,
           0.21617934389860438,
           0.12641343416079961,
           0.11054661984457576,
           0.32269346066911714,
           0.09346336327722006
          ],
          [
           91,
           -0.7582825211947006,
           0.10490448653816106,
           91,
           0.18432805826328072,
           0.09741186894698335,
           0.12613036795598595,
           0.3205274288378709,
           0.1846817881955918,
           0.08692048780028742
          ],
          [
           92,
           -0.5320883876365756,
           0.5509282403458232,
           92,
           0.08266586529181738,
           0.18695520856853728,
           0.16301527217133951,
           0.07526233578664764,
           0.34857597889900394,
           0.1435253392826543
          ],
          [
           93,
           -2.2085937766264365,
           0.4539036477136976,
           93,
           0.09198608553856787,
           0.05171630068197172,
           0.07855820731315216,
           0.44603454489180633,
           0.2398638180857194,
           0.09184104348878247
          ],
          [
           94,
           1.4581779374611,
           0.28402706888565477,
           94,
           0.12004956745441782,
           0.15261597087736373,
           0.10710144833160053,
           0.24606839989886772,
           0.24265392059657392,
           0.13151069284117642
          ],
          [
           95,
           -2.1154566447116148,
           0.6225665726025991,
           95,
           0.6430812091834507,
           0.0430806072178493,
           0.04564069683072921,
           0.08916428026039998,
           0.1405333171800392,
           0.03849988932753163
          ],
          [
           96,
           -0.8459963377537676,
           0.665079351225683,
           96,
           0.5570517263544142,
           0.04351658048899636,
           0.048200728436806145,
           0.1579941336418426,
           0.1169313188667639,
           0.07630551221117682
          ],
          [
           97,
           -0.8125674063969113,
           0.6678465287258321,
           97,
           0.2663743914382778,
           0.20140444413594336,
           0.15271679230144866,
           0.05733990011916366,
           0.1905908846400823,
           0.13157358736508415
          ],
          [
           98,
           -0.843757448717007,
           0.658109019007599,
           98,
           0.24168278057664797,
           0.28871707098323146,
           0.1291026645974194,
           0.05348164508296264,
           0.19019947270396792,
           0.09681636605577067
          ],
          [
           99,
           -0.4217538409641395,
           0.13774489256049605,
           99,
           0.150867046948,
           0.09903170353426831,
           0.14235241368692078,
           0.20942454777747993,
           0.27026455030957597,
           0.12805973774375515
          ],
          [
           100,
           -0.2390405890697247,
           0.23601810007232718,
           100,
           0.14789990643242962,
           0.10697859483952397,
           0.12044929751660198,
           0.12214991691141501,
           0.3535123406450967,
           0.14900994365493264
          ],
          [
           101,
           -1.045465324740242,
           0.2722791953340208,
           101,
           0.23924906694772083,
           0.13618341434828318,
           0.147814846413419,
           0.08683148639252179,
           0.2972391621101102,
           0.09268202378794492
          ],
          [
           102,
           -0.8139992256933184,
           0.11585077486931203,
           102,
           0.20572799221338067,
           0.12240386942629845,
           0.11317220178294998,
           0.13665593621979563,
           0.3200623205160381,
           0.10197767984153697
          ],
          [
           103,
           -0.3977905113010558,
           0.36884689667199266,
           103,
           0.314059526578145,
           0.05944818232140949,
           0.07717632908171915,
           0.34190204851078454,
           0.11113498611503757,
           0.09627892739290428
          ],
          [
           104,
           0.8227328666276227,
           0.021454660698776155,
           104,
           0.2512401975962104,
           0.13885278632975814,
           0.1309485165881905,
           0.13838489271001564,
           0.22003999382111136,
           0.12053361295471376
          ],
          [
           105,
           0.6718112735071614,
           0.14642716050330817,
           105,
           0.19454901057931395,
           0.18012169315309504,
           0.08950751192049072,
           0.11994172273351805,
           0.32704114826838254,
           0.0888389133451998
          ],
          [
           106,
           0.31615819589589134,
           0.34171999238920736,
           106,
           0.2064558978845019,
           0.07777645623996163,
           0.09187025840285665,
           0.2739385632935913,
           0.2668698051718258,
           0.08308901900726287
          ],
          [
           107,
           -0.03276433284021241,
           0.22323743039325492,
           107,
           0.13654548003860914,
           0.14378747422076635,
           0.146588013677701,
           0.10601079774071129,
           0.3852493459954666,
           0.08181888832674572
          ],
          [
           108,
           0.049578973127139436,
           0.20974281571913106,
           108,
           0.2559226192409884,
           0.127598717994216,
           0.09065486790788826,
           0.257590850759641,
           0.18732692181283722,
           0.08090602228442903
          ],
          [
           109,
           0.09701208103295322,
           0.45557860079306045,
           109,
           0.1771996351449106,
           0.1577030898392837,
           0.19103498633826813,
           0.08696979295670305,
           0.10625512979444225,
           0.28083736592639236
          ],
          [
           110,
           -0.15359515611093566,
           0.10881146512432874,
           110,
           0.17246390260794955,
           0.1262873867742955,
           0.16508839033219808,
           0.11454934344014124,
           0.31514771565828525,
           0.10646326118713044
          ],
          [
           111,
           0.8302430102071162,
           0.21889962484314945,
           111,
           0.16279189968303856,
           0.1508182445437121,
           0.17192452403693695,
           0.11631424890885217,
           0.31270052486525873,
           0.08545055796220148
          ],
          [
           112,
           -0.7962194225138843,
           0.17558610825301396,
           112,
           0.20347084795077372,
           0.08444512345982484,
           0.11113255481423184,
           0.2791451199197404,
           0.17634712091294863,
           0.14545923294248048
          ],
          [
           113,
           -0.1289241718963331,
           0.05870884656027388,
           113,
           0.21812496011987165,
           0.1153931888904146,
           0.1874608366979896,
           0.1582412840059097,
           0.2062466079115075,
           0.11453312237430688
          ],
          [
           114,
           0.13607619147336614,
           0.15796571169758908,
           114,
           0.19996611233196981,
           0.16028614396683233,
           0.12749949145164907,
           0.10845391782846912,
           0.32365317038038194,
           0.0801411640406977
          ],
          [
           115,
           0.07935467947203823,
           0.0973640338532086,
           115,
           0.1737197238741774,
           0.23831680656950963,
           0.10960461315512555,
           0.12924880543823786,
           0.25890865082108555,
           0.09020140014186401
          ],
          [
           116,
           0.621134475271102,
           0.0723866998096063,
           116,
           0.1920337968526752,
           0.10831300213703869,
           0.11334090570889835,
           0.11884230596875225,
           0.2728141737631827,
           0.1946558155694529
          ],
          [
           117,
           -0.19482763169034922,
           0.018484806776922654,
           117,
           0.1921446438086346,
           0.11806365722899931,
           0.1212186760982592,
           0.13845511306051347,
           0.31918748778579453,
           0.110930422017799
          ],
          [
           118,
           -0.10865833399807567,
           0.09830546863053183,
           118,
           0.24350373969601258,
           0.11781951787081968,
           0.12967419017291162,
           0.21211937943444775,
           0.21426805662234746,
           0.08261511620346086
          ],
          [
           119,
           -0.4454989618048766,
           0.06098966670313529,
           119,
           0.1684200178723057,
           0.11181368939174995,
           0.15245631551079866,
           0.1813914653213433,
           0.289010757884829,
           0.09690775401897342
          ],
          [
           120,
           0.1950372194330493,
           0.10622413213102799,
           120,
           0.2170857021824719,
           0.1657294793925407,
           0.09989476901707986,
           0.11818877729562197,
           0.314063730358048,
           0.08503754175423744
          ],
          [
           121,
           -0.40650000444545165,
           0.11961651710594903,
           121,
           0.16603008736063057,
           0.0930722404395204,
           0.1903385536683918,
           0.12178687077432226,
           0.26771581318044546,
           0.16105643457668942
          ],
          [
           122,
           0.16916128382044981,
           0.5232313572214838,
           122,
           0.08839988920408276,
           0.26652449487705965,
           0.30115966192251675,
           0.05481984733221747,
           0.2488759186798308,
           0.040220187984292506
          ],
          [
           123,
           0.5833548565556619,
           0.1587401890821095,
           123,
           0.17351553246393522,
           0.17746992767092362,
           0.11496869265632693,
           0.11489316972177209,
           0.18545088774143917,
           0.23370178974560304
          ],
          [
           124,
           0.22479959506656833,
           0.1537212048549386,
           124,
           0.3320034844699884,
           0.11958203139686092,
           0.10031900242404548,
           0.17399420165700508,
           0.17831416637471792,
           0.09578711367738214
          ],
          [
           125,
           0.0801633825629775,
           0.36160874121454367,
           125,
           0.38412944258564474,
           0.059657554003261726,
           0.06795252523768137,
           0.3234058320354089,
           0.11116613197320277,
           0.05368851416480042
          ],
          [
           126,
           -0.2514967347705299,
           0.1764593679151118,
           126,
           0.20323014815192658,
           0.10259970334886442,
           0.14828459070119743,
           0.2596296798093183,
           0.19671165758105547,
           0.08954422040763775
          ],
          [
           127,
           0.8586174193645078,
           0.14607096117908733,
           127,
           0.25715432866390536,
           0.12186782452527405,
           0.13109633948027227,
           0.12812159380831134,
           0.1996512858506231,
           0.1621086276716138
          ],
          [
           128,
           -0.29926675157327765,
           0.6271860058157803,
           128,
           0.4236725111884641,
           0.07138084875868991,
           0.04614940393558861,
           0.16888213006466302,
           0.07859773130276146,
           0.2113173747498331
          ],
          [
           129,
           0.9644821128418147,
           0.21898083904650084,
           129,
           0.3313719357521834,
           0.16819339853044776,
           0.14970506230926095,
           0.08702378298396135,
           0.16971483616109595,
           0.09399098426305062
          ],
          [
           130,
           -0.9232273203232317,
           0.17677775150495273,
           130,
           0.13095739246442697,
           0.08806845866646508,
           0.3037536453475037,
           0.21556100639443598,
           0.18932565084791644,
           0.07233384627925188
          ],
          [
           131,
           0.28057090938658535,
           0.4840490337391029,
           131,
           0.12646172863836697,
           0.15210940892807145,
           0.29349425682338065,
           0.12874845089435435,
           0.22793133254389553,
           0.07125482217193105
          ],
          [
           132,
           1.433615497792984,
           0.08569090170571336,
           132,
           0.2260650909465753,
           0.12207641863410895,
           0.13844727298188428,
           0.1847860767537185,
           0.18288043675362184,
           0.14574470393009117
          ],
          [
           133,
           1.141552706957562,
           0.18714352530847722,
           133,
           0.14137361418648928,
           0.16091986569929037,
           0.18975066594437284,
           0.17914896509709838,
           0.22976431483045176,
           0.09904257424229738
          ],
          [
           134,
           0.46688881593290377,
           0.17299747432551116,
           134,
           0.1349351360965671,
           0.10203074228678949,
           0.11999191686023253,
           0.13081857501030242,
           0.4283450244215226,
           0.08387860532458598
          ],
          [
           135,
           0.32252129590897616,
           0.09977352979528327,
           135,
           0.1544744318643621,
           0.1606824800474362,
           0.12260587668722389,
           0.11643234580229371,
           0.30933865708641567,
           0.13646620851226846
          ],
          [
           136,
           -1.022313896112631,
           0.0997544144896737,
           136,
           0.17383430700350108,
           0.16061279792921052,
           0.11213469092732044,
           0.2120587460560361,
           0.22915449839547014,
           0.11220495968846161
          ],
          [
           137,
           0.5514055749393876,
           0.23105922050570413,
           137,
           0.1602257616351188,
           0.12353065189818707,
           0.09867195372604554,
           0.13022081401625296,
           0.15743687774903706,
           0.3299139409753585
          ],
          [
           138,
           1.167421355757971,
           0.25160373409488673,
           138,
           0.15585271008064436,
           0.07532426409810133,
           0.07541682343341617,
           0.30515899731387364,
           0.22798902271292454,
           0.1602581823610399
          ],
          [
           139,
           0.16699645053907541,
           0.0148284316716673,
           139,
           0.20018855487377687,
           0.1325047933780345,
           0.13834214355897154,
           0.17612923643219394,
           0.2447243054473835,
           0.10811096630963977
          ],
          [
           140,
           0.08674513485777124,
           0.0631975949434025,
           140,
           0.25882322286359144,
           0.10782556362282614,
           0.12086356609514529,
           0.13515273541153233,
           0.1945069123002652,
           0.18282799970663963
          ],
          [
           141,
           1.4197633251072523,
           0.35408982716753545,
           141,
           0.22067650871136177,
           0.1513731186584779,
           0.06255462552284036,
           0.17201390722282436,
           0.3284896393910883,
           0.06489220049340724
          ],
          [
           142,
           1.112393845355251,
           0.4643134213332735,
           142,
           0.2100289079857697,
           0.07459533575578547,
           0.06596850008024621,
           0.07520308626301098,
           0.30850230272462076,
           0.2657018671905669
          ],
          [
           143,
           -0.5495826918551059,
           0.20120273526203955,
           143,
           0.13756523804060394,
           0.10961125961915871,
           0.20218119856795713,
           0.2580985556315871,
           0.17743109562019882,
           0.11511265252049421
          ],
          [
           144,
           2.3269619771062997,
           0.26835069931426236,
           144,
           0.18874046296813243,
           0.07097750344696513,
           0.11656871964041246,
           0.32662814688010855,
           0.1530803605577664,
           0.14400480650661507
          ],
          [
           145,
           2.210829523679318,
           0.6003594091248458,
           145,
           0.1310742224489,
           0.062155002460196014,
           0.16523229033303563,
           0.2652512177380553,
           0.25649419551592173,
           0.11979307150389124
          ],
          [
           146,
           0.37999152132868874,
           0.1383279722889767,
           146,
           0.14461907154458117,
           0.10672360120146769,
           0.12788395636754699,
           0.11955361678197678,
           0.4100506099412285,
           0.09116914416319885
          ],
          [
           147,
           0.4992901049386784,
           0,
           147,
           0.21538358479427924,
           0.12266775041295237,
           0.16053787229292088,
           0.1474429549587994,
           0.22367491195328154,
           0.13029292558776667
          ],
          [
           148,
           -0.49024091037788886,
           0.27339114231072703,
           148,
           0.10944637009715821,
           0.21334897477225737,
           0.2934391306737972,
           0.12506404137710184,
           0.17965202664286783,
           0.07904945643681757
          ],
          [
           149,
           1.1618000336278844,
           0.22831204885369435,
           149,
           0.26865626198214665,
           0.1129142581534479,
           0.1346634822212975,
           0.11088683026236158,
           0.2953961528013414,
           0.07748301457940505
          ],
          [
           150,
           0.7773931258546677,
           0.12160390019057431,
           150,
           0.2070163398235274,
           0.11467506507776384,
           0.1570678044441983,
           0.12911619772457214,
           0.31071926709247316,
           0.08140532583746517
          ],
          [
           151,
           -0.7527815354183658,
           0.20791040864294372,
           151,
           0.28454983394325695,
           0.08077195300966683,
           0.13125306876728252,
           0.15643625823204618,
           0.2442980602804593,
           0.1026908257672881
          ],
          [
           152,
           0.6362911863047495,
           0.1376463650110341,
           152,
           0.22365790000575664,
           0.14152719954417842,
           0.1001078369351805,
           0.1288094093322262,
           0.21655757368859582,
           0.18934008049406234
          ],
          [
           153,
           -0.3799544558527519,
           0.1330904474433483,
           153,
           0.17970328024867707,
           0.16740638453579518,
           0.13580203922627568,
           0.1424114998933304,
           0.264982069002129,
           0.10969472709379276
          ],
          [
           154,
           0.6270591509780495,
           1,
           154,
           0.14177494026358256,
           0.22704357571338094,
           0.21522052385823623,
           0.1381379489919313,
           0.1568505368635461,
           0.12097247430932292
          ],
          [
           155,
           0.2608223182748963,
           0.4016576858181272,
           155,
           0.15280612804264296,
           0.10620463214868504,
           0.13673425777622109,
           0.18756987696242108,
           0.33121160766822844,
           0.08547349740180137
          ],
          [
           156,
           0.3990352409474146,
           0.26726284627804436,
           156,
           0.1343458224790801,
           0.07861312272451608,
           0.13787902747879566,
           0.19788457652934832,
           0.2981543939541822,
           0.15312305683407754
          ],
          [
           157,
           0.4229844897178434,
           0.07910657272832086,
           157,
           0.2424055852901375,
           0.16270066522579446,
           0.13417100835718485,
           0.15819646796255687,
           0.1811505965467024,
           0.1213756766176239
          ],
          [
           158,
           -0.27871195052183984,
           0.11637575605868412,
           158,
           0.20716700021248236,
           0.12274485428424102,
           0.13031591678319984,
           0.13266314707226445,
           0.29067780982309593,
           0.11643127182471649
          ],
          [
           159,
           -0.5022136901944305,
           0.4650552416110512,
           159,
           0.3786203914652655,
           0.07484032256178613,
           0.09930199373001779,
           0.11955247756450135,
           0.24414201770178628,
           0.08354279697664303
          ],
          [
           160,
           -0.5435158097633801,
           0.1875325367759775,
           160,
           0.24811795745106416,
           0.08548252404288227,
           0.14507380027500694,
           0.1234843336447063,
           0.27115641765216,
           0.12668496693418047
          ],
          [
           161,
           0.1874062016558935,
           0.481365241850385,
           161,
           0.09492657916444663,
           0.1597440952281908,
           0.3019877517412929,
           0.06255917917990493,
           0.3042441127279542,
           0.07653828195821061
          ],
          [
           162,
           0.21251731278186858,
           0.060713017570171834,
           162,
           0.223792521126283,
           0.12224231012104672,
           0.10678351124093355,
           0.13871898915089917,
           0.30968463413838504,
           0.09877803422245258
          ],
          [
           163,
           0.04292211985726213,
           0.3681509547509952,
           163,
           0.10296139284250531,
           0.15889405821287095,
           0.1913373837605824,
           0.082472308808639,
           0.3880463915677299,
           0.07628846480767229
          ],
          [
           164,
           -0.007901998724456849,
           0.13251182650186002,
           164,
           0.16015150649272647,
           0.13666543522959923,
           0.11873824761269507,
           0.1318223423181582,
           0.2718282613747303,
           0.18079420697209075
          ],
          [
           165,
           -0.2169294681808518,
           0.3007074557332418,
           165,
           0.15631268816657157,
           0.14606443613026257,
           0.16556871828835154,
           0.1379117712827146,
           0.288579071799537,
           0.10556331433256287
          ],
          [
           166,
           -0.18614914202993527,
           0.16344207960408172,
           166,
           0.1505189284330143,
           0.11160692729790357,
           0.11262660544452485,
           0.11675615986839838,
           0.30038285268000525,
           0.20810852627615378
          ],
          [
           167,
           0.3993504569584606,
           0.08450297163576968,
           167,
           0.21984860641456777,
           0.10637029224959153,
           0.12448081142160247,
           0.2439846618602016,
           0.20736991530501978,
           0.09794571274901683
          ],
          [
           168,
           0.060792987414392985,
           0.25278862292906307,
           168,
           0.11360670012100131,
           0.1833740484398013,
           0.22788764430637135,
           0.08221758636510414,
           0.31138967368885906,
           0.0815243470788629
          ],
          [
           169,
           -0.4725014745204761,
           0.18811251115924624,
           169,
           0.12900406913977935,
           0.2138775464322596,
           0.11481420810352708,
           0.10216216463237231,
           0.369661019196505,
           0.07048099249555664
          ],
          [
           170,
           -1.2893101840584302,
           0.4538804874408583,
           170,
           0.4444983223579595,
           0.08483867908677292,
           0.09386504622149056,
           0.06693096247727522,
           0.22810667314621386,
           0.08176031671028806
          ],
          [
           171,
           -1.9998376594328016,
           0.6814114422132007,
           171,
           0.35743273576246165,
           0.1535100585593424,
           0.09165715161422668,
           0.06446597327201732,
           0.1838866190844074,
           0.14904746170754446
          ],
          [
           172,
           -0.17946125115868505,
           0.22073971416080537,
           172,
           0.33952674368184527,
           0.09137801431032823,
           0.0872694417223038,
           0.20909455824387765,
           0.19750597422205513,
           0.07522526781959003
          ],
          [
           173,
           -0.9790583929724503,
           0.4091928039560251,
           173,
           0.3469401512450781,
           0.08037144136714862,
           0.14046993911716904,
           0.07693865755503931,
           0.30054846941031055,
           0.05473134130525464
          ],
          [
           174,
           -2.4416751774238397,
           0.3992630421721872,
           174,
           0.4697721080650083,
           0.10658951544662061,
           0.06045478068387047,
           0.07981246903632881,
           0.21994055936802004,
           0.06343056740015175
          ],
          [
           175,
           0.8434010909886255,
           0.33643706813510127,
           175,
           0.15366201639539248,
           0.09299608540280659,
           0.10157369428601301,
           0.3766881471376546,
           0.19646055413867586,
           0.07861950263945738
          ],
          [
           176,
           0.6454674666240473,
           0.26782626986529634,
           176,
           0.33669387037225,
           0.09682774326574001,
           0.07728286740355482,
           0.21430226665950378,
           0.13503128713954457,
           0.1398619651594067
          ],
          [
           177,
           -0.2928296613067256,
           0.24030016348078434,
           177,
           0.1465395481932011,
           0.10847577476611654,
           0.0753441074238782,
           0.0877656875666175,
           0.4516084219620371,
           0.13026646008814963
          ],
          [
           178,
           0.48568453618549035,
           0.13858067317611653,
           178,
           0.1704866749114762,
           0.12939872105323266,
           0.09285428941538104,
           0.11330349758853989,
           0.3770982256132679,
           0.11685859141810229
          ],
          [
           179,
           -1.5703351049911372,
           0.1336288232864953,
           179,
           0.18514323584080153,
           0.10092042243807485,
           0.12552017537817195,
           0.18575886275890033,
           0.26638257006106086,
           0.13627473352299063
          ],
          [
           180,
           0.8737838363541233,
           0.1287790943617706,
           180,
           0.19116111482653098,
           0.11279640657240093,
           0.1206503163525111,
           0.22434859071723245,
           0.17621725001047522,
           0.17482632152084931
          ],
          [
           181,
           -0.27815517097870557,
           0.7402274261135147,
           181,
           0.2877936883837328,
           0.1562010942441899,
           0.07940428533205637,
           0.19473217006440904,
           0.11923198009380168,
           0.16263678188181022
          ],
          [
           182,
           -0.07582412064884636,
           0.39083645614423546,
           182,
           0.3012495648181656,
           0.09291469694647664,
           0.08472975345399837,
           0.12574605146358026,
           0.250487379449882,
           0.1448725538678971
          ],
          [
           183,
           -2.450935826332676,
           0.9745142770582528,
           183,
           0.10275200864218746,
           0.1598468381721281,
           0.06807068467864011,
           0.23403157820483117,
           0.08697682395933103,
           0.3483220663428822
          ],
          [
           184,
           0.32554269372872624,
           0.6044381953062588,
           184,
           0.31766038990770423,
           0.09800310499173724,
           0.04472288275310787,
           0.22318491690231887,
           0.11520796483712642,
           0.20122074060800543
          ],
          [
           185,
           -0.039853192770547885,
           0.23849198035815275,
           185,
           0.12252297942158738,
           0.10054919020464699,
           0.18699129285739235,
           0.09188005706055735,
           0.36709109331081896,
           0.13096538714499703
          ],
          [
           186,
           -0.8278101832667315,
           0.2272611206839908,
           186,
           0.15631840596791552,
           0.2665951552130404,
           0.24555811867762378,
           0.12611026726345212,
           0.13678433716945168,
           0.06863371570851638
          ],
          [
           187,
           -0.718964028407449,
           0.3615303401900841,
           187,
           0.14531264376086345,
           0.09443687828786275,
           0.08641621042979834,
           0.1736610467080675,
           0.172157988136951,
           0.3280152326764569
          ],
          [
           188,
           0.17846852856532813,
           0.1791029285314273,
           188,
           0.14688545642585998,
           0.12093876785787888,
           0.13343593365999587,
           0.12440123049436361,
           0.36161397474184065,
           0.11272463682006102
          ],
          [
           189,
           -0.45500894298940575,
           0.33477628996107167,
           189,
           0.2991088880585986,
           0.1326162930407724,
           0.0992533456911503,
           0.19118984598699088,
           0.1923271683203309,
           0.08550445890215687
          ],
          [
           190,
           -0.05189742978096745,
           0.32844722427148426,
           190,
           0.1482893214367428,
           0.08338395660799974,
           0.10019702296565383,
           0.18832414065495506,
           0.2530457410103431,
           0.22675981732430547
          ],
          [
           191,
           1.2591097053798195,
           0.4207174894753949,
           191,
           0.11299852927386958,
           0.25861370219235635,
           0.11082945290475904,
           0.07501601374286158,
           0.27436202990323555,
           0.16818027198291777
          ],
          [
           192,
           0.606927311766413,
           0.13149729558298726,
           192,
           0.14829764048536045,
           0.13738770074077344,
           0.1298854655675639,
           0.1714427520288144,
           0.3035209767521751,
           0.1094654644253128
          ],
          [
           193,
           -1.5064546558014884,
           0.47024111380374695,
           193,
           0.49892294478224614,
           0.05317200113994386,
           0.13428998199843312,
           0.06920254385714017,
           0.1936508302415437,
           0.0507616979806931
          ],
          [
           194,
           0.3611198762450927,
           0.07469067503079797,
           194,
           0.16616744614527973,
           0.21393092944188735,
           0.12084792680144044,
           0.14989124487053385,
           0.2542075486898667,
           0.0949549040509917
          ],
          [
           195,
           -0.7476707147563006,
           0.1467391857965401,
           195,
           0.20366043178003213,
           0.09722768998095682,
           0.08913917779898724,
           0.274375062087004,
           0.2299605936622184,
           0.10563704469080129
          ],
          [
           196,
           -1.006609180444289,
           0.31836459276401374,
           196,
           0.22363357465060396,
           0.08993500969650949,
           0.06546172306890673,
           0.3800465891293282,
           0.12147918296781343,
           0.11944392048683813
          ],
          [
           197,
           -0.45545980898768623,
           0.13045898956341112,
           197,
           0.22188384691159507,
           0.12642378645413332,
           0.1342806026232217,
           0.11888861429550324,
           0.2958489375607636,
           0.10267421215478315
          ],
          [
           198,
           -0.08056714444187252,
           0.03000675118892184,
           198,
           0.21611587449327094,
           0.1333616181370466,
           0.12658850894178636,
           0.1881208772813765,
           0.2306600715271311,
           0.10515304961938855
          ],
          [
           199,
           1.0844244359685518,
           0.09169947983907185,
           199,
           0.17571527842849108,
           0.10989533743964676,
           0.15139618071031222,
           0.1939469027799232,
           0.23344708025684807,
           0.1355992203847788
          ],
          [
           200,
           -0.8264333527178429,
           0.32522443442055443,
           200,
           0.1350766643320666,
           0.14790171209664985,
           0.18292555343709518,
           0.12581494378071573,
           0.3455657594314253,
           0.06271536692204732
          ],
          [
           201,
           -0.7123079017931353,
           0.3698005759866251,
           201,
           0.1064400257812403,
           0.14499837250631062,
           0.1762713255161598,
           0.10662786367354143,
           0.3943618344762697,
           0.07130057804647803
          ],
          [
           202,
           -0.6892295926078624,
           0.327601828068632,
           202,
           0.1958407324034821,
           0.13414404819585676,
           0.08721908537276638,
           0.13977492264994873,
           0.18739355913740613,
           0.25562765224054007
          ],
          [
           203,
           -0.029562344390782647,
           0.44349530346448107,
           203,
           0.3045264651373623,
           0.15722290780148238,
           0.0818721772166017,
           0.11094304693526025,
           0.10026870554678011,
           0.2451666973625133
          ],
          [
           204,
           -1.0209272703787629,
           0.2948647500741058,
           204,
           0.1827113933587734,
           0.156410853065888,
           0.0704059599680297,
           0.08027892651582637,
           0.44082442132147714,
           0.06936844577000537
          ],
          [
           205,
           -0.5771233489891587,
           0.3568105041453647,
           205,
           0.24129753365946885,
           0.12611254365434685,
           0.17699043450762228,
           0.08327269728737602,
           0.312493751181507,
           0.059833039709679126
          ],
          [
           206,
           0.597325407650616,
           0.1951964922049492,
           206,
           0.12785115179621995,
           0.19927056883272898,
           0.22902259682242637,
           0.1098174530692444,
           0.21106455157555812,
           0.12297367790382226
          ],
          [
           207,
           -0.35302092270139185,
           0.2190896232482244,
           207,
           0.18313730184364566,
           0.08557130722631351,
           0.08563916822122437,
           0.12360688535146283,
           0.29476483958851896,
           0.2272804977688347
          ],
          [
           208,
           -0.8656273277700273,
           0.11723813867167227,
           208,
           0.3121065910991533,
           0.09984813343149053,
           0.10445899037315363,
           0.12123588566281567,
           0.27183726399598673,
           0.0905131354374002
          ],
          [
           209,
           0.5081757753927794,
           0.2841270701937592,
           209,
           0.11827635149960224,
           0.15159382793658438,
           0.1454042894526725,
           0.09870410571093358,
           0.42126337288090904,
           0.06475805251929827
          ],
          [
           210,
           0.24008444597440004,
           0.13326184008520436,
           210,
           0.21775334911210648,
           0.10949911290762573,
           0.18839472096981943,
           0.1026803023695496,
           0.25644414594070836,
           0.1252283687001904
          ],
          [
           211,
           -0.41481222836756837,
           0.5634973617844877,
           211,
           0.09156171853916362,
           0.18812197094718128,
           0.19047399730245032,
           0.09911555100683278,
           0.34756926039382724,
           0.08315750181054475
          ],
          [
           212,
           -0.07410786062720154,
           0.10646007473035315,
           212,
           0.15232358426817985,
           0.19555913021830218,
           0.14452157121382736,
           0.11196948745064605,
           0.27858270864765755,
           0.11704351820138692
          ],
          [
           213,
           -0.3074006131290108,
           0.0809967516755045,
           213,
           0.2070036502206481,
           0.13418370449390607,
           0.11548864714099769,
           0.1266535977414532,
           0.31429059555732175,
           0.10237980484567318
          ],
          [
           214,
           -0.1210326360099484,
           0.16349510151999352,
           214,
           0.2105465762301118,
           0.11112523550058814,
           0.13487869793450785,
           0.12107859652140798,
           0.34080999844902576,
           0.08156089536435847
          ],
          [
           215,
           -0.6197010956600149,
           0.2151243776568336,
           215,
           0.1717863284287701,
           0.14968113944286146,
           0.15681535009221284,
           0.09597054188277628,
           0.29794198906806973,
           0.1278046510853096
          ],
          [
           216,
           0.8547030505367524,
           0.4935056910413419,
           216,
           0.11471821900920759,
           0.1369111263068496,
           0.20166714594035143,
           0.18692116142045956,
           0.31049132549418473,
           0.04929102182894709
          ],
          [
           217,
           0.1517544303627284,
           0.13015276094862527,
           217,
           0.21107396561098152,
           0.13050301760404848,
           0.13262843471837663,
           0.11395603163692394,
           0.3309136449239407,
           0.08092490550572864
          ],
          [
           218,
           -3.012077282643988,
           0.6951092046375045,
           218,
           0.553848849937269,
           0.0521642682714007,
           0.07317129647445343,
           0.0461981537483392,
           0.1246375934433897,
           0.14997983812514798
          ],
          [
           219,
           -0.15559609351073322,
           0.33828699068073276,
           219,
           0.10844769849452697,
           0.26211238648230606,
           0.1275578991845627,
           0.07845559221976925,
           0.2659869558800924,
           0.15743946773874262
          ],
          [
           220,
           0.3518719489005385,
           0.21109094354688007,
           220,
           0.1603102018147151,
           0.16683052608975424,
           0.15619233361649612,
           0.0869636855346708,
           0.3633811866302167,
           0.06632206631414692
          ],
          [
           221,
           1.7596159215318061,
           0.2965629452464354,
           221,
           0.11793094164532833,
           0.09738150592476139,
           0.10068549791460239,
           0.3434442867409393,
           0.2115198402942251,
           0.1290379274801435
          ],
          [
           222,
           -1.001040598754021,
           0.16997274600716283,
           222,
           0.13758069013589216,
           0.15960875021303572,
           0.10014172835111623,
           0.2546833430104266,
           0.2386243027764293,
           0.10936118551309996
          ],
          [
           223,
           -1.4887310998517735,
           0.08617826017270863,
           223,
           0.22352221623763757,
           0.11273911811424456,
           0.10671894093686325,
           0.25440842143488285,
           0.19622956258632676,
           0.10638174069004529
          ],
          [
           224,
           0.44509300021246684,
           0.22604871985967626,
           224,
           0.12063343670462102,
           0.2119918605314713,
           0.14518791578138743,
           0.11117776125945353,
           0.34317202025771854,
           0.06783700546534811
          ],
          [
           225,
           0.9622958605334714,
           0.021215151915480308,
           225,
           0.2376233627592022,
           0.11653769251019853,
           0.12193990426553382,
           0.1965610444737702,
           0.22260502792796494,
           0.10473296806333007
          ],
          [
           226,
           0.6107233067625482,
           0.08697607583725024,
           226,
           0.28158037307240524,
           0.11919239773397708,
           0.1323814965550234,
           0.12075698485069326,
           0.23434766487365066,
           0.11174108291425039
          ],
          [
           227,
           -0.5950406683245715,
           0.07508715989002289,
           227,
           0.17871368960331463,
           0.11432215866589938,
           0.19774723170311764,
           0.12818289008675615,
           0.28857374376146216,
           0.09246028617945007
          ],
          [
           228,
           0.17847945877258542,
           0.4034411728315741,
           228,
           0.15718401568992216,
           0.1914085723823171,
           0.25533156344014224,
           0.07581502931260221,
           0.20592902566500573,
           0.11433179351001051
          ],
          [
           229,
           -0.8096513774880612,
           0.06650737003332623,
           229,
           0.17231092980613846,
           0.10693877557108022,
           0.13987683124047656,
           0.2916143164054106,
           0.1969601647583949,
           0.09229898221849933
          ],
          [
           230,
           -1.0208479804818404,
           0.12211594512874285,
           230,
           0.17248912409518205,
           0.11344841086177983,
           0.09681244118514994,
           0.3112497871318494,
           0.17181526317401632,
           0.13418497355202244
          ],
          [
           231,
           -0.48576465208014685,
           0.10091799230726989,
           231,
           0.24587657505201732,
           0.204263485995878,
           0.11312685874188205,
           0.12237774952512355,
           0.19840010774627884,
           0.11595522293882027
          ],
          [
           232,
           1.3806877164961349,
           0.1239198708361768,
           232,
           0.2924855074458547,
           0.12012753716716926,
           0.09562537512844516,
           0.15796129479400642,
           0.25353842767835016,
           0.08026185778617435
          ],
          [
           233,
           -0.33919129174467466,
           0.32895673228302774,
           233,
           0.276599647274207,
           0.07384276688846422,
           0.07551418315381397,
           0.08767966839430799,
           0.16079552579591783,
           0.325568208493289
          ],
          [
           234,
           -0.4742599346233931,
           0.09935092039894387,
           234,
           0.2100008749304129,
           0.09904038217718257,
           0.10014473438510309,
           0.1801017498294176,
           0.24903875378675963,
           0.16167350489112411
          ],
          [
           235,
           -0.40454027373051793,
           0.11414039023314952,
           235,
           0.2776053875891268,
           0.12898920151773077,
           0.1290743060216024,
           0.12128894014805215,
           0.18480184540450648,
           0.15824031931898147
          ],
          [
           236,
           0.29743354589306015,
           0.11386655111151299,
           236,
           0.15740621857597675,
           0.22991494088355213,
           0.10784418869105528,
           0.11821235668496953,
           0.2126829568817575,
           0.17393933828268882
          ],
          [
           237,
           -0.3826859264719418,
           0.3253587061693819,
           237,
           0.15316547913001358,
           0.06332330085972836,
           0.2536480013992459,
           0.12489933654361877,
           0.3453599029641205,
           0.059603979103272905
          ],
          [
           238,
           0.5382164894613172,
           0.35587361371620774,
           238,
           0.09693826368946391,
           0.21165790455899547,
           0.23918513745386397,
           0.07396222429106754,
           0.26693647082397476,
           0.11131999918263423
          ],
          [
           239,
           0.2755989111087388,
           0.18702835745326013,
           239,
           0.38235816136920747,
           0.08616236190560474,
           0.08557157119507816,
           0.17881973859117348,
           0.1472048339188712,
           0.11988333302006504
          ],
          [
           240,
           -0.8951742448961322,
           0.22679600994701876,
           240,
           0.20766094801003898,
           0.07476813379866645,
           0.08504210841748663,
           0.31269009040662815,
           0.19346921149592486,
           0.126369507871255
          ],
          [
           241,
           0.5698064772544771,
           0.07432946535379567,
           241,
           0.3018624454240476,
           0.12869326831058867,
           0.1321986075787976,
           0.12193918941675959,
           0.226704508314373,
           0.08860198095543347
          ],
          [
           242,
           0.30469832158019794,
           0.13221460172032656,
           242,
           0.21867702948602977,
           0.2615320144299408,
           0.10548470774256562,
           0.15189805625080982,
           0.17468609372494684,
           0.08772209836570717
          ],
          [
           243,
           0.7354541783001566,
           0.06933646224400578,
           243,
           0.20414830818055632,
           0.10592049675354072,
           0.10934737153168646,
           0.20099884708197843,
           0.20772202508677956,
           0.17186295136545848
          ],
          [
           244,
           -0.009670884687530412,
           0.08595234186532351,
           244,
           0.17055631208265562,
           0.1477765314492236,
           0.15092834549542886,
           0.12760123922389813,
           0.2645467124563055,
           0.13859085929248838
          ],
          [
           245,
           0.47337592155495145,
           0.31913109369782594,
           245,
           0.1358715641978534,
           0.07805027353527458,
           0.117800201562078,
           0.2177613798487534,
           0.32668463019297656,
           0.12383195066306404
          ],
          [
           246,
           0.1551071940730845,
           0.024787967825548714,
           246,
           0.18973777991109908,
           0.12044998120509107,
           0.19747224659344162,
           0.13085400395208002,
           0.25390449894587325,
           0.1075814893924148
          ],
          [
           247,
           0.2770495069935718,
           0.39332045581229597,
           247,
           0.11315108932195632,
           0.2422996152770822,
           0.24971406648410485,
           0.06690188169667731,
           0.2771257830197089,
           0.05080756420047053
          ],
          [
           248,
           1.207281191698487,
           0.08336258681622534,
           248,
           0.23425259921431565,
           0.11550191525045106,
           0.14367515732698388,
           0.1920846757998753,
           0.2122719916901976,
           0.1022136607181767
          ],
          [
           249,
           -0.4834506751471588,
           0.107383788242062,
           249,
           0.1598296637804365,
           0.09698807705956296,
           0.15336534959779438,
           0.2590726126876498,
           0.17533478182740447,
           0.15540951504715192
          ],
          [
           250,
           -0.5842234739778989,
           0.08511897315740416,
           250,
           0.19721898582241498,
           0.12023304817125413,
           0.17321065886063167,
           0.11678393620123488,
           0.30222677769703865,
           0.0903265932474257
          ],
          [
           251,
           -1.2602751300030102,
           0.5760580738909307,
           251,
           0.07430712071535406,
           0.1574740754600796,
           0.16440149843567395,
           0.1305094789972787,
           0.3347936742995996,
           0.13851415209201415
          ],
          [
           252,
           -1.3101742250893942,
           0.14619628064314688,
           252,
           0.14010057845589885,
           0.11267760589140904,
           0.08891125812683337,
           0.2707771332028866,
           0.2835124780096834,
           0.10402094631328883
          ],
          [
           253,
           1.453395879098205,
           0.24485047755436581,
           253,
           0.26832538510744136,
           0.1130201593821265,
           0.17043434344564085,
           0.17208099434948348,
           0.19876848681700374,
           0.07737063089830404
          ],
          [
           254,
           -0.8500438094647489,
           0.19176539342743532,
           254,
           0.1502853233542297,
           0.2561546461003664,
           0.08553859230215843,
           0.17450406869034715,
           0.1581644732281607,
           0.17535289632473766
          ],
          [
           255,
           0.6096027169255027,
           0.2975060197516234,
           255,
           0.2322994019023778,
           0.22934771060282266,
           0.12546914533601253,
           0.09801515339331361,
           0.25341727859076507,
           0.061451310174708326
          ],
          [
           256,
           1.1753790125581465,
           0.09905869731852852,
           256,
           0.19072190408643658,
           0.10978653362862352,
           0.10257286626729048,
           0.21691127392200382,
           0.2471738599618343,
           0.1328335621338113
          ],
          [
           257,
           -0.3981285467012201,
           0.13548540878363746,
           257,
           0.15663546894731062,
           0.11993055343904088,
           0.16449466681589892,
           0.20589733065957871,
           0.26947648373287747,
           0.0835654964052934
          ],
          [
           258,
           0.0742838167364297,
           0.2740624189008559,
           258,
           0.3637455220456862,
           0.07235090774847631,
           0.10721712118874371,
           0.18026511394691128,
           0.12941572288904984,
           0.14700561218113278
          ],
          [
           259,
           0.9744565549856324,
           0.16272315517526964,
           259,
           0.448115651295258,
           0.09277280260436627,
           0.09856175561606594,
           0.12661957169723073,
           0.15645678646816766,
           0.07747343231891139
          ],
          [
           260,
           1.1939449689979988,
           0.09962848714973777,
           260,
           0.17620325908664639,
           0.1084178915789226,
           0.15540618639135195,
           0.26852497948353715,
           0.18919566700514823,
           0.10225201645439363
          ],
          [
           261,
           -0.7032046915788259,
           0.2979337545202841,
           261,
           0.10559639921143696,
           0.12109978075373456,
           0.1646435138803185,
           0.18204681896631597,
           0.3240466758533977,
           0.10256681133479637
          ],
          [
           262,
           1.177997544422141,
           0.11314253051110466,
           262,
           0.27102241587845705,
           0.1476028268207282,
           0.16858086792958488,
           0.12143286386220503,
           0.20612340267549895,
           0.08523762283352598
          ],
          [
           263,
           -0.9355188797507952,
           0.18056908815795603,
           263,
           0.21958904694094905,
           0.17825608530519638,
           0.09648422245208772,
           0.17618281515239967,
           0.22019489248633886,
           0.1092929376630283
          ],
          [
           264,
           0.43313588898785826,
           0.42700658811939085,
           264,
           0.21788641559847324,
           0.09566382391974725,
           0.10921070695817503,
           0.3100475654907367,
           0.2110607260331629,
           0.05613076199970506
          ],
          [
           265,
           -1.8434667745005315,
           0.3334967099443564,
           265,
           0.1057387368421118,
           0.24768598565927658,
           0.11732814179500049,
           0.2540260474297241,
           0.1250201243985322,
           0.15020096387535486
          ],
          [
           266,
           -1.9286743940137616,
           0.38277927401073547,
           266,
           0.347830470941992,
           0.10378878206797633,
           0.16352142413471776,
           0.07994554876273242,
           0.20034138920963293,
           0.10457238488294845
          ],
          [
           267,
           -0.19656185040621432,
           0.16223377755478297,
           267,
           0.2267169077412884,
           0.15450122125754573,
           0.11154365647874756,
           0.15091261797782957,
           0.15762198245683037,
           0.1987036140877583
          ],
          [
           268,
           0.8724365892728522,
           0.1961565507691506,
           268,
           0.16613088338477508,
           0.11964053813219486,
           0.20322851420174978,
           0.10527445925216174,
           0.3272003273010724,
           0.07852527772804598
          ],
          [
           269,
           0.6855782593413918,
           0.310429270402825,
           269,
           0.14153595757110626,
           0.3345955346122398,
           0.15770141784061772,
           0.0840261754810947,
           0.15581740293550156,
           0.12632351155944008
          ],
          [
           270,
           -0.5187737533977665,
           0.32003953804459695,
           270,
           0.10728648833989929,
           0.12707648840693891,
           0.17962717642797713,
           0.15204427805405926,
           0.20145521651740303,
           0.23251035225372244
          ],
          [
           271,
           -0.9259966544069949,
           0.1803479597395491,
           271,
           0.21686312381406672,
           0.09435660689616508,
           0.1680361407335497,
           0.10553922542969893,
           0.3199412023918693,
           0.09526370073465008
          ],
          [
           272,
           -1.2812575649227216,
           0.37385075160486264,
           272,
           0.37070773912247995,
           0.09924127367552951,
           0.06874483449491457,
           0.11758389559064214,
           0.2873137051875918,
           0.056408551928842005
          ],
          [
           273,
           0.06402933961907031,
           0.21894181256833106,
           273,
           0.29550242239461355,
           0.07454792822919123,
           0.15086375165382368,
           0.1531182212176758,
           0.23283454288860078,
           0.093133133616095
          ],
          [
           274,
           -0.8753957170689377,
           0.19741165851225934,
           274,
           0.3692005015505587,
           0.11599479219699314,
           0.14808788890664784,
           0.12750821838367235,
           0.15966674424776933,
           0.07954185471435862
          ],
          [
           275,
           -1.0219207156636023,
           0.5035734469015806,
           275,
           0.25451212289668385,
           0.06671474649987616,
           0.34367672794668824,
           0.06813762352659196,
           0.2060331805134545,
           0.060925598616705434
          ],
          [
           276,
           -0.06931341656097723,
           0.13174166048787703,
           276,
           0.29863054548178253,
           0.08988624946870816,
           0.10098738582770542,
           0.17833174682937483,
           0.1835073079345743,
           0.14865676445785478
          ],
          [
           277,
           -0.8274840632566611,
           0.3994601499080022,
           277,
           0.09425302257242732,
           0.1354349129471479,
           0.20818137337182901,
           0.3138421352422358,
           0.10630236513813476,
           0.14198619072822513
          ],
          [
           278,
           -0.6985270144276505,
           0.09557667377295341,
           278,
           0.17645250241310712,
           0.10487823332156473,
           0.12421251654468778,
           0.23210242048992477,
           0.2644277205743438,
           0.0979266066563717
          ],
          [
           279,
           0.6908671548951835,
           0.10495478429573493,
           279,
           0.24219058702799212,
           0.11769729030656173,
           0.13150598146816586,
           0.1181543503379465,
           0.2740133763371203,
           0.11643841452221355
          ],
          [
           280,
           -0.3805801293191913,
           0.09623006310587343,
           280,
           0.19017159210295645,
           0.09993290290865357,
           0.13512218478160692,
           0.1305788095367147,
           0.3529646045765136,
           0.09122990609355472
          ],
          [
           281,
           0.4355842918764796,
           0.06212397991031012,
           281,
           0.21524673612910808,
           0.1452595680263767,
           0.11369349028696506,
           0.13723696239460176,
           0.23735994229424032,
           0.1512033008687082
          ],
          [
           282,
           0.3479365420585412,
           0.18154465376520906,
           282,
           0.3991573607245598,
           0.08209797665609284,
           0.08443523057314387,
           0.20351575261138985,
           0.14705935744116128,
           0.08373432199365241
          ],
          [
           283,
           -0.5604846441775122,
           0.20881349957453407,
           283,
           0.2342724278096982,
           0.07596282030331794,
           0.12089250768306291,
           0.29232272734999676,
           0.19883861855190296,
           0.07771089830202121
          ],
          [
           284,
           0.1315406854607637,
           0.32509153802091156,
           284,
           0.38673003919049,
           0.06562584499688225,
           0.11118102611914497,
           0.21473055311242023,
           0.121657585266383,
           0.10007495131467968
          ],
          [
           285,
           2.152165702380154,
           0.35612802216814254,
           285,
           0.2661946323097002,
           0.18039701771178088,
           0.0645546744587214,
           0.07739360990979828,
           0.13429670393511806,
           0.2771633616748812
          ],
          [
           286,
           0.5493956742587902,
           0.13381584821205897,
           286,
           0.1515681085432929,
           0.1044924660936723,
           0.22503393022386314,
           0.1074270295418637,
           0.1680400075307449,
           0.24343845806656303
          ],
          [
           287,
           -0.6169933099449378,
           0.121446426359073,
           287,
           0.19546508574838392,
           0.10588489612745255,
           0.10974152233969746,
           0.2950142640762892,
           0.2130618937679384,
           0.0808323379402384
          ],
          [
           288,
           1.3241671906018448,
           0.2092929465838581,
           288,
           0.17957330234550994,
           0.24053224414980695,
           0.17337841806036744,
           0.10947803889269393,
           0.1676861296250099,
           0.12935186692661194
          ],
          [
           289,
           1.8643339159559071,
           0.6201118085472692,
           289,
           0.1836715178316815,
           0.19480584375963927,
           0.18418274106606125,
           0.047402870462866835,
           0.21124311596146708,
           0.17869391091828393
          ],
          [
           290,
           -0.02914361496467721,
           0.08981727875283785,
           290,
           0.22530279552007962,
           0.12231076856304071,
           0.13835157538173584,
           0.20783470626543143,
           0.19064427232234596,
           0.1155558819473665
          ],
          [
           291,
           -0.438499129149277,
           0.04441819188597761,
           291,
           0.17550741785420632,
           0.10782307772699988,
           0.12250013515732718,
           0.14450250370470927,
           0.34912375876958324,
           0.10054310678717411
          ],
          [
           292,
           -1.1721672092210422,
           0.04463357545157308,
           292,
           0.2425279572736999,
           0.11527562629660577,
           0.11815200190575952,
           0.20573708037697963,
           0.21372657173240026,
           0.10458076241455488
          ],
          [
           293,
           0.20269290220444147,
           0.1713787512065579,
           293,
           0.15759337357866268,
           0.16946772020597164,
           0.14145557023835367,
           0.11958329646120214,
           0.3306873546891434,
           0.08121268482666648
          ],
          [
           294,
           0.9173786234131053,
           0.07417018344173633,
           294,
           0.28969552440317975,
           0.12845218772881942,
           0.11273278642544488,
           0.1437721492433011,
           0.19355709372341426,
           0.13179025847584053
          ],
          [
           295,
           1.336148351183722,
           0.11615643910142863,
           295,
           0.16590257289493013,
           0.1275683275422612,
           0.10101713785569379,
           0.22133850319922582,
           0.21310981489898156,
           0.1710636436089076
          ],
          [
           296,
           0.32139497938696937,
           0.05553620910384754,
           296,
           0.2662440233038486,
           0.1790614959649757,
           0.11186162538633425,
           0.1541341481516451,
           0.19670982763913827,
           0.09198887955405807
          ],
          [
           297,
           0.4990943418670575,
           0.05506267908453384,
           297,
           0.19038933686918666,
           0.1127043854565584,
           0.1239455414290944,
           0.13152168727792227,
           0.3221607571973154,
           0.11927829176992284
          ],
          [
           298,
           0.4647758930356347,
           0.0819161785715376,
           298,
           0.17393215085229077,
           0.10740796409108533,
           0.14379655056998794,
           0.141402304392343,
           0.33794953150418705,
           0.09551149859010596
          ],
          [
           299,
           -0.38417941557755064,
           0.42195163822194925,
           299,
           0.3629472606261545,
           0.13143951830639325,
           0.08820722200399322,
           0.16762713732506251,
           0.1572437527794367,
           0.0925351089589597
          ],
          [
           300,
           0.8375025637725075,
           0.08857363273605066,
           300,
           0.24258543145617356,
           0.12375723629812063,
           0.10770018376182396,
           0.14904108260350818,
           0.23916833689212166,
           0.13774772898825202
          ],
          [
           301,
           0.3538443392080467,
           0.316716947137884,
           301,
           0.11339250820800179,
           0.15304189946335636,
           0.16814771515733204,
           0.08142649777848046,
           0.3253632859934401,
           0.1586280933993893
          ],
          [
           302,
           0.6396449430010609,
           0.19808648795248096,
           302,
           0.17495867158272427,
           0.09130131222428166,
           0.11248995491114586,
           0.20444730404735628,
           0.329804346665962,
           0.08699841056852996
          ],
          [
           303,
           0.9490060042526259,
           0.365251552393935,
           303,
           0.13788799836497223,
           0.062051338265838224,
           0.11236458840297814,
           0.122632413981725,
           0.3348619202642707,
           0.2302017407202158
          ],
          [
           304,
           -1.6325337390688692,
           0.6064308372977539,
           304,
           0.4236944662236034,
           0.05776843536348631,
           0.12578876718907722,
           0.07297624088446401,
           0.24816196711155353,
           0.07161012322781547
          ],
          [
           305,
           -1.1352871402835931,
           0.4498450508371049,
           305,
           0.4598630048760313,
           0.1249780326662783,
           0.0683765545111617,
           0.0781715077081338,
           0.15875628206856615,
           0.10985461816982856
          ],
          [
           306,
           -0.10484594924230362,
           0.23847381715507945,
           306,
           0.1264766599138627,
           0.16567740539681589,
           0.19832771897251053,
           0.09252407656741618,
           0.3333127905902405,
           0.08368134855915411
          ],
          [
           307,
           0.7336350718349782,
           0.043579408977989176,
           307,
           0.2575626242519686,
           0.11680567918998519,
           0.13069108209706698,
           0.13229267007906598,
           0.26842146166005854,
           0.09422648272185473
          ],
          [
           308,
           0.8444168265245963,
           0.13252911993236818,
           308,
           0.14879674899773265,
           0.18801441270423447,
           0.10667547567880667,
           0.20823201709820405,
           0.2643824571603305,
           0.08389888836069165
          ],
          [
           309,
           -1.0732780051583177,
           0.34867339347659965,
           309,
           0.2771187737175398,
           0.2144302169599846,
           0.1101280399712039,
           0.07636448325407315,
           0.2628970963024499,
           0.059061389794748655
          ],
          [
           310,
           -1.4228193246128087,
           0.19090725694495814,
           310,
           0.12698813691112715,
           0.1205075991748227,
           0.10846561428838228,
           0.358870476462263,
           0.21160197437117906,
           0.07356619879222595
          ],
          [
           311,
           0.9841549224745437,
           0.20794689042148876,
           311,
           0.27757772034191436,
           0.08765815750285733,
           0.10053364489436958,
           0.11740399057314722,
           0.19471707053771842,
           0.2221094161499932
          ],
          [
           312,
           0.2074096460220065,
           0.3999683564021791,
           312,
           0.14698147654778065,
           0.05866473301891556,
           0.1399618164522732,
           0.07036173880107396,
           0.431793505369859,
           0.15223672981009745
          ],
          [
           313,
           -0.18845620280441389,
           0.16351610429584224,
           313,
           0.1439213820584015,
           0.18274622572989316,
           0.11062778388673149,
           0.16287054446648733,
           0.2723140991318971,
           0.12751996472658958
          ],
          [
           314,
           0.29696627347711,
           0.01545291855194129,
           314,
           0.2200647385537193,
           0.16152703270255983,
           0.1415792267171703,
           0.14012063556558782,
           0.2215292275577502,
           0.11517913890321259
          ],
          [
           315,
           -0.7884591255509161,
           0.2889655748011289,
           315,
           0.22701563653690313,
           0.17991664720407233,
           0.10983619419000709,
           0.11730255837020646,
           0.20311669978073155,
           0.16281226391807954
          ],
          [
           316,
           -0.496087038251386,
           0.13066385279291698,
           316,
           0.141459361645604,
           0.13975478247993045,
           0.12648207986303514,
           0.12003740282934197,
           0.39252844660732705,
           0.07973792657476142
          ],
          [
           317,
           -0.9974159031795529,
           0.1258894369934606,
           317,
           0.3641612287810351,
           0.099324215791587,
           0.10427829449117591,
           0.12923396498272183,
           0.18731519543921385,
           0.11568710051426633
          ],
          [
           318,
           0.7688629381954645,
           0.14205883457691093,
           318,
           0.17655150413517012,
           0.09400435197641568,
           0.09889297664753369,
           0.11199473676297868,
           0.17339156037366463,
           0.3451648701042371
          ],
          [
           319,
           0.46109791841154096,
           0.3578202056594796,
           319,
           0.11400453806833166,
           0.2376985279889015,
           0.13218066951475305,
           0.07795673203270014,
           0.36772505369337516,
           0.0704344787019385
          ],
          [
           320,
           -0.3164869038177669,
           0.15141682745547325,
           320,
           0.2563226594952185,
           0.09040192496567376,
           0.1324658693893413,
           0.1779150196694068,
           0.26268517611574393,
           0.08020935036461566
          ],
          [
           321,
           -0.2960305864406365,
           0.04965284077842888,
           321,
           0.18185793370514666,
           0.13453634347818846,
           0.10869196447246281,
           0.14711218779007648,
           0.32968638096036496,
           0.09811518959376078
          ],
          [
           322,
           0.5520346185761615,
           0.1669850446652699,
           322,
           0.1955300514133664,
           0.24104303404786426,
           0.09610195331880704,
           0.1468685972107675,
           0.16018381710003424,
           0.16027254690916062
          ],
          [
           323,
           1.0873613945369593,
           0.12259945998665925,
           323,
           0.20310068871177597,
           0.22421874157612262,
           0.15695572864715185,
           0.131414050630662,
           0.18732038653891314,
           0.0969904038953744
          ],
          [
           324,
           0.39157405759309577,
           0.1351429084255181,
           324,
           0.27486001803386767,
           0.08683831327041076,
           0.11709219654449701,
           0.11150772405496483,
           0.3298198563400284,
           0.07988189175623124
          ],
          [
           325,
           -1.9406247324037604,
           0.6465155876835429,
           325,
           0.14361156926247937,
           0.11382470749752398,
           0.0718612442011089,
           0.46598109749186734,
           0.07292089524873309,
           0.13180048629828747
          ],
          [
           326,
           -0.7996769361939255,
           0.08451059206877558,
           326,
           0.1689295612794787,
           0.13964525738503317,
           0.2084028484278792,
           0.16260893602630644,
           0.23334077091358732,
           0.08707262596771513
          ],
          [
           327,
           -0.7714655742825209,
           0.4137798890476914,
           327,
           0.33121296906462944,
           0.12765105507543392,
           0.10377281477122281,
           0.12746933139686098,
           0.25246479620319556,
           0.05742903348865714
          ],
          [
           328,
           -0.688309742317829,
           0.1551997708719505,
           328,
           0.19375437058886055,
           0.09582133523377377,
           0.09204621531018542,
           0.26088042441224973,
           0.26558570214184135,
           0.09191195231308917
          ],
          [
           329,
           -0.8762995502260824,
           0.06562080096319602,
           329,
           0.17320558585094703,
           0.16165311081740202,
           0.10698427994138208,
           0.2356242362315376,
           0.22737128853947167,
           0.09516149861925949
          ],
          [
           330,
           -0.4230751394075647,
           0.07823974961594479,
           330,
           0.17339225505864503,
           0.13102615431155293,
           0.1014487093555687,
           0.16517502354577454,
           0.3390689216445843,
           0.08988893608387444
          ],
          [
           331,
           0.6239057581694462,
           0.30474410274352426,
           331,
           0.13244868273889063,
           0.1667710107156866,
           0.21155784366251915,
           0.08269806305292574,
           0.3435615187771146,
           0.06296288105286314
          ],
          [
           332,
           0.10201690834402533,
           0.17391248971423479,
           332,
           0.229088669186307,
           0.08100848195643882,
           0.17047168461080986,
           0.10090267489138663,
           0.2770413748376531,
           0.14148711451740464
          ],
          [
           333,
           1.8425481518137254,
           0.666463887733525,
           333,
           0.07243790412746157,
           0.04065649727470583,
           0.24498633677550186,
           0.17010877091451018,
           0.43338078519902096,
           0.03842970570879954
          ],
          [
           334,
           -1.0854678639717739,
           0.2797617499766018,
           334,
           0.15436175191781157,
           0.1540160879908538,
           0.08393659724960856,
           0.283408689569459,
           0.17048831223618266,
           0.15378856103608435
          ],
          [
           335,
           0.8973741576003714,
           0.17313460780494766,
           335,
           0.285732748013148,
           0.10921746308246362,
           0.1240796164345702,
           0.10207433630168515,
           0.25774353436756786,
           0.12115230180056524
          ],
          [
           336,
           0.9255267805409877,
           0.16230109513061977,
           336,
           0.17526574951465432,
           0.12183251273794245,
           0.18365034172094044,
           0.1419406676205156,
           0.3039642329069326,
           0.07334649549901462
          ],
          [
           337,
           -0.8345861461597328,
           0.11878823144642138,
           337,
           0.15481445070336236,
           0.15037897824551444,
           0.11717572534304403,
           0.2950095602268584,
           0.20215758228027042,
           0.08046370320095027
          ],
          [
           338,
           -4.243259787109237,
           0.888442572855228,
           338,
           0.4584923233345815,
           0.13537167386201976,
           0.034886823132965476,
           0.1618632262451231,
           0.17985838123525327,
           0.029527572190056882
          ],
          [
           339,
           -1.9618368896997112,
           0.20156572939631143,
           339,
           0.18242341315987715,
           0.15335595583034187,
           0.08384708846480775,
           0.30425855421020453,
           0.1670361745186166,
           0.109078813816152
          ],
          [
           340,
           -0.8241972912498776,
           0.40015157445030586,
           340,
           0.4087324744713651,
           0.05896504691602032,
           0.0782655914622581,
           0.13628914528899702,
           0.2558675106189596,
           0.06188023124239982
          ],
          [
           341,
           -0.3305236743293305,
           0.17473597558035475,
           341,
           0.2084119575860269,
           0.09928048377478528,
           0.1303327913807849,
           0.1310844011570653,
           0.3028287924015927,
           0.12806157369974489
          ],
          [
           342,
           -1.0527368069331084,
           0.41060245305240767,
           342,
           0.480206506253721,
           0.06699877390344171,
           0.06077609328060522,
           0.14394948983417458,
           0.188130917741464,
           0.05993821898659354
          ],
          [
           343,
           0.09572919021512905,
           0.49038373990296263,
           343,
           0.14814855300973356,
           0.06566309558930163,
           0.15914322348148485,
           0.06049826012237308,
           0.35027188270066234,
           0.2162749850964446
          ],
          [
           344,
           -0.5771596558180887,
           0.13818343102875855,
           344,
           0.18072432820322892,
           0.16201050340025694,
           0.15539734113482054,
           0.11203048156472825,
           0.2758718793555458,
           0.11396546634141953
          ],
          [
           345,
           0.17736822666947916,
           0.236171368779768,
           345,
           0.28562891544414054,
           0.08577639743137704,
           0.0968454029901837,
           0.17886861574492355,
           0.23108095590990974,
           0.12179971247946547
          ],
          [
           346,
           -0.7727340971352863,
           0.19218809227553857,
           346,
           0.1816856152853974,
           0.10869524418997412,
           0.16667172771593275,
           0.12120545495337277,
           0.3428034187939744,
           0.0789385390613485
          ],
          [
           347,
           0.6818816804698049,
           0.18540529219096016,
           347,
           0.2819178142539904,
           0.11192297894103549,
           0.13649794031543583,
           0.12035226634969665,
           0.27321589267356544,
           0.0760931074662763
          ],
          [
           348,
           -0.20028371855140392,
           0.03390371557449831,
           348,
           0.2223091792537416,
           0.12900793166265448,
           0.19026672237731831,
           0.13758158181905933,
           0.21210367119907625,
           0.10873091368814995
          ],
          [
           349,
           0.1879333073000694,
           0.31789679840744456,
           349,
           0.11117476619488625,
           0.16300837915737823,
           0.16525153886963503,
           0.0831621957016143,
           0.39483828123807113,
           0.082564838838415
          ],
          [
           350,
           -0.6195629918096222,
           0.12039605556668946,
           350,
           0.17289352736972008,
           0.17716042272927426,
           0.14443966259479088,
           0.10795529456095719,
           0.31547109333065065,
           0.08207999941460693
          ],
          [
           351,
           -1.2725454803434602,
           0.4085840910816014,
           351,
           0.2112844870088844,
           0.09920303993451529,
           0.15294773141846274,
           0.07016878075124057,
           0.34745903062736405,
           0.11893693025953292
          ],
          [
           352,
           -0.8763622278830703,
           0.3948336612297023,
           352,
           0.3208646846089135,
           0.10994885576178579,
           0.1140325698051757,
           0.08246067847883892,
           0.256604095637342,
           0.1160891157079442
          ],
          [
           353,
           -1.0385615742535657,
           0.6138101354648081,
           353,
           0.45813555326870165,
           0.05092480971102416,
           0.11008530268443277,
           0.13598820454960842,
           0.2039650914856446,
           0.040901038300588395
          ],
          [
           354,
           -0.701690002797958,
           0.13570526576071335,
           354,
           0.19028632707277016,
           0.13020293403664995,
           0.12606890985423114,
           0.24376687047444115,
           0.1679612288364831,
           0.1417137297254244
          ],
          [
           355,
           -0.6522946032356569,
           0.581741158075266,
           355,
           0.40922942693494435,
           0.1193194171823829,
           0.07024516313875083,
           0.13692131996042475,
           0.15212357744071864,
           0.11216109534277866
          ],
          [
           356,
           0.4131464490628177,
           0.6208679963179284,
           356,
           0.11464827210020019,
           0.27492802442810943,
           0.2757221424719252,
           0.06003774899839923,
           0.23467143429157913,
           0.0399923777097868
          ],
          [
           357,
           -0.49057236924854997,
           0.7753495614260207,
           357,
           0.4575172931420373,
           0.06550972539169533,
           0.09646539589965776,
           0.13947500949861497,
           0.1433289356636717,
           0.09770364040432297
          ],
          [
           358,
           -2.893620543374134,
           0.41950101576934795,
           358,
           0.28039931533891077,
           0.18494718880005348,
           0.11213798909574266,
           0.1494765990696008,
           0.12304129371974033,
           0.1499976139759519
          ],
          [
           359,
           -0.6216938278409214,
           0.28956065777142903,
           359,
           0.3323180248440383,
           0.08695802060917301,
           0.1109668250887141,
           0.18184340740660027,
           0.224841340245281,
           0.06307238180619334
          ],
          [
           360,
           0.49223174706020717,
           0.06441862589285685,
           360,
           0.266059617691432,
           0.10306382078417792,
           0.16232281167335372,
           0.13644306763071637,
           0.22208440534536358,
           0.11002627687495632
          ],
          [
           361,
           0.09133256266385481,
           0.2349911591868865,
           361,
           0.12274704645258327,
           0.22199183269066122,
           0.2256336747676172,
           0.08822143730725794,
           0.25336882966492713,
           0.08803717911695329
          ],
          [
           362,
           -0.1806260630834,
           0.16398802654043876,
           362,
           0.21891369358828044,
           0.12331896972405423,
           0.11769624226714692,
           0.1610261124527579,
           0.3006994033129644,
           0.07834557865479616
          ],
          [
           363,
           1.3258002375324638,
           0.19197237153144409,
           363,
           0.1443962143483871,
           0.18373109905912086,
           0.08729822369629901,
           0.3042306495479307,
           0.15625889923563124,
           0.12408491411263115
          ],
          [
           364,
           -0.18574796314471675,
           0.1388492363689036,
           364,
           0.20058268929471412,
           0.21349564002028548,
           0.1822251283973098,
           0.11262877433373342,
           0.19100113674451838,
           0.10006663120943893
          ],
          [
           365,
           -0.4598031862858176,
           0.1272046367525966,
           365,
           0.16280876124896293,
           0.1132433677076123,
           0.11171733441416451,
           0.11296415831860492,
           0.3056630076456916,
           0.19360337066496378
          ],
          [
           366,
           0.4827553570327138,
           0.08003067515752653,
           366,
           0.17185230464674273,
           0.11042861168700087,
           0.18143255417700815,
           0.12030107623875091,
           0.3029858688300817,
           0.11299958442041566
          ],
          [
           367,
           -0.17369673011005426,
           0.24856692348601367,
           367,
           0.13640687379848307,
           0.1619590848122889,
           0.31569867763064935,
           0.08376726715781879,
           0.2039493871557315,
           0.09821870944502833
          ],
          [
           368,
           0.6304728668873949,
           0.16702773288527972,
           368,
           0.23030352929293219,
           0.1445086911144204,
           0.10837001324574316,
           0.09755980502330258,
           0.33773066903838034,
           0.08152729228522133
          ],
          [
           369,
           0.36516317722942154,
           0.3815970820230431,
           369,
           0.09222319161935358,
           0.2529613692797839,
           0.20545431306650005,
           0.0717671077768749,
           0.2920362177653828,
           0.08555780049210453
          ],
          [
           370,
           0.9274737773437707,
           0.13545094785923836,
           370,
           0.384462218774407,
           0.08997101703579279,
           0.09140504212216419,
           0.1073246073828865,
           0.19280632600041478,
           0.1340307886843346
          ],
          [
           371,
           -0.27523144012804135,
           0.1414140276257519,
           371,
           0.22680777739473207,
           0.1104431675259532,
           0.14284483294773279,
           0.27999292921761065,
           0.16214989889722106,
           0.07776139401675027
          ],
          [
           372,
           -0.6090640670656922,
           0.17580052348403846,
           372,
           0.15472980575672193,
           0.08559798966932772,
           0.16635142334622358,
           0.12115912074993891,
           0.2074521076382016,
           0.2647095528395862
          ],
          [
           373,
           0.24385862646058065,
           0.08654906080193,
           373,
           0.22739867471048794,
           0.12440975746176981,
           0.11540203690534849,
           0.12050614481882184,
           0.20609831135559026,
           0.20618507474798153
          ],
          [
           374,
           -0.018590427811750132,
           0.04328576125229015,
           374,
           0.17308093862587323,
           0.12007094573530915,
           0.19953243637631776,
           0.12498429111981285,
           0.2839437491037236,
           0.09838763903896341
          ],
          [
           375,
           1.0274236761570321,
           0.2222969213023073,
           375,
           0.12613003574613108,
           0.11748875505276787,
           0.19370535076410111,
           0.13633915431807503,
           0.16689931913902414,
           0.2594373849799007
          ],
          [
           376,
           -1.3012235922104778,
           0.20625584982781953,
           376,
           0.16615209309605689,
           0.12784533906290335,
           0.14512623584060957,
           0.20633451699349117,
           0.26820875047203274,
           0.08633306453490634
          ],
          [
           377,
           1.1172165139339438,
           0.20952824979754897,
           377,
           0.321312522399343,
           0.07608399951852968,
           0.09706326746334552,
           0.10044407989012301,
           0.33134035749743673,
           0.073755773231222
          ],
          [
           378,
           0.19920436672567388,
           0.24228958731854622,
           378,
           0.14713500484339342,
           0.07416199336540026,
           0.1241554055973688,
           0.2209196787654381,
           0.3641413104175695,
           0.06948660701082995
          ],
          [
           379,
           1.339624888966577,
           0.23799855237856743,
           379,
           0.13996345302592528,
           0.08616723696997625,
           0.11479113548304304,
           0.3370855286083154,
           0.1505993193893061,
           0.1713933265234339
          ],
          [
           380,
           0.7394630545184525,
           0.18203061588629005,
           380,
           0.2702903154810443,
           0.1775676101962359,
           0.11961787051836259,
           0.14136338777169927,
           0.15676517026040138,
           0.13439564577225668
          ],
          [
           381,
           -0.5581839098826533,
           0.21172781806147015,
           381,
           0.18235577423734417,
           0.08176968652944377,
           0.14508789381176423,
           0.2867212104357319,
           0.22324147990010235,
           0.08082395508561353
          ],
          [
           382,
           0.4603136603342557,
           0.16802116268909095,
           382,
           0.333393179071162,
           0.11947407990537426,
           0.1053915768147998,
           0.11498625327573134,
           0.16653684741927333,
           0.16021806351365925
          ],
          [
           383,
           -1.2133535519009548,
           0.15158700307535083,
           383,
           0.2517941482005934,
           0.14706999747749433,
           0.09885584483685303,
           0.16751983588655003,
           0.21415281693788313,
           0.12060735666062597
          ],
          [
           384,
           -1.0027629639903635,
           0.3290494372363002,
           384,
           0.11851405689089017,
           0.23633873182603937,
           0.13284106602449425,
           0.1111568761237439,
           0.19655586369502936,
           0.20459340543980303
          ],
          [
           385,
           -0.06423384018253409,
           0.12661933126857333,
           385,
           0.1640826251234195,
           0.19466051604812631,
           0.1631908791161492,
           0.1164937600479314,
           0.28221755869073184,
           0.07935466097364181
          ],
          [
           386,
           -1.3633323773588168,
           0.13515266051369187,
           386,
           0.34656357558063167,
           0.09407771482695033,
           0.11711434697516622,
           0.11448154489312681,
           0.24308218981542878,
           0.08468062790869615
          ],
          [
           387,
           0.4904155348225387,
           0.10586135155794489,
           387,
           0.24747975239364953,
           0.11287788099318158,
           0.17629427551483848,
           0.10876327811482067,
           0.2737272037243685,
           0.08085760925914133
          ],
          [
           388,
           0.36273070942740426,
           0.1578813769035574,
           388,
           0.1453111498361229,
           0.19534742728230853,
           0.20151711622944227,
           0.09604727945082793,
           0.26097905286705436,
           0.10079797433424405
          ],
          [
           389,
           -0.20346211769985345,
           0.09334216478084677,
           389,
           0.16075047577047344,
           0.13688766922408202,
           0.1963325001428068,
           0.1379083932045974,
           0.2821027783168555,
           0.08601818334118472
          ],
          [
           390,
           -1.3208765105887519,
           0.16465460824183573,
           390,
           0.1630625049378738,
           0.15369332727114898,
           0.18828943301579873,
           0.19997711843576038,
           0.21938224088216962,
           0.07559537545724843
          ],
          [
           391,
           -0.6769789701122644,
           0.17069645829096866,
           391,
           0.1881928035513645,
           0.08737298530915977,
           0.12086319970650237,
           0.11759982013172905,
           0.37613526918828327,
           0.10983592211296096
          ],
          [
           392,
           -1.2030645202768238,
           0.31703986066185985,
           392,
           0.4042470511309116,
           0.06924197898388107,
           0.07324960183239014,
           0.11060377377471577,
           0.2798113311183984,
           0.0628462631597031
          ],
          [
           393,
           -0.37476346679700456,
           0.17273935552225692,
           393,
           0.24316728319244119,
           0.11198420591942551,
           0.08779057106806201,
           0.28004727424806475,
           0.20210439087713475,
           0.07490627469487181
          ],
          [
           394,
           0.5843911150786365,
           0.13233918605333328,
           394,
           0.17284335900876674,
           0.20635634769609604,
           0.09828578747625502,
           0.10293801157107134,
           0.3195505615398714,
           0.10002593270793958
          ],
          [
           395,
           0.19983406949161886,
           0.1084020351553079,
           395,
           0.16455666958442633,
           0.15770977982827714,
           0.22217241532010606,
           0.1365669315299123,
           0.17057497638809208,
           0.1484192273491862
          ],
          [
           396,
           -0.778890191739851,
           0.13680120225962095,
           396,
           0.16184990879674627,
           0.1967708063811565,
           0.1212544146259162,
           0.1317958509197575,
           0.24964655748020265,
           0.138682461796221
          ],
          [
           397,
           -0.7123378128071185,
           0.22504855857680814,
           397,
           0.1350657915371954,
           0.09897585375697393,
           0.1500566895101841,
           0.20382960261986946,
           0.3462331604631929,
           0.06583890211258407
          ],
          [
           398,
           -0.24737902356786567,
           0.3339505705404622,
           398,
           0.11305507680530562,
           0.12013434810321971,
           0.2477361412235679,
           0.14030857852083256,
           0.2719386821597451,
           0.10682717318732908
          ],
          [
           399,
           0.5081669345877893,
           0.18263786756453224,
           399,
           0.14046678850855573,
           0.2565073956986948,
           0.23627487767381103,
           0.09283594667112448,
           0.1706786557636116,
           0.1032363356842025
          ],
          [
           400,
           -0.9082009394145427,
           0.17941885366854296,
           400,
           0.13777020787026145,
           0.1811393732705329,
           0.18798545233270383,
           0.13436601343392215,
           0.28636225828122597,
           0.07237669481135386
          ],
          [
           401,
           -0.8620344642476836,
           0.31748804477070536,
           401,
           0.1992825134034541,
           0.06440174237866585,
           0.09360598418255721,
           0.28949427211401363,
           0.2715110778509666,
           0.08170441007034267
          ],
          [
           402,
           1.9456327602429098,
           0.3642512124831759,
           402,
           0.1981119199643889,
           0.06517228878030193,
           0.06137008079336013,
           0.20805338461308026,
           0.38281514275214146,
           0.08447718309672746
          ],
          [
           403,
           2.3669322902139687,
           0.2926361536311839,
           403,
           0.2268589104952984,
           0.14154124005710522,
           0.07084300415642111,
           0.3078396285323172,
           0.14133411301877874,
           0.11158310374007942
          ],
          [
           404,
           0.05635498768694858,
           0.05264750986450788,
           404,
           0.2646950031280478,
           0.11297179484029632,
           0.11970788369271694,
           0.20791625403837358,
           0.19543660064319762,
           0.09927246365736767
          ],
          [
           405,
           0.11139088136269126,
           0.10531065807415003,
           405,
           0.15250110666496183,
           0.19016124039951401,
           0.23553816024469615,
           0.11460783545289017,
           0.185740967631753,
           0.12145068960618474
          ],
          [
           406,
           -0.32248479046717593,
           0.15974818710672561,
           406,
           0.26379554007058714,
           0.09380234509138533,
           0.08763814145317388,
           0.32214338938237513,
           0.15532012223380337,
           0.07730046176867512
          ],
          [
           407,
           -0.0021089081661408438,
           0.2481504929022506,
           407,
           0.12662914197424063,
           0.16526544550091293,
           0.17399577278979847,
           0.11181476222717551,
           0.3413280999763962,
           0.08096677753147628
          ],
          [
           408,
           0.4924138619773364,
           0.048556691570243775,
           408,
           0.19418830270358214,
           0.11347768937564774,
           0.1218551887559585,
           0.13374117490065665,
           0.27357529516447693,
           0.16316234909967806
          ],
          [
           409,
           -0.49719522276642114,
           0.11695936130957048,
           409,
           0.1645832528461261,
           0.0960802845823972,
           0.10139619527842099,
           0.12564233726388466,
           0.20443609615197772,
           0.3078618338771933
          ],
          [
           410,
           -0.02118124820109968,
           0.02383491016807867,
           410,
           0.19477630396925016,
           0.14547121144972883,
           0.12283781015257964,
           0.1409414901219476,
           0.24041430640423922,
           0.15555887790225462
          ],
          [
           411,
           -1.3409979358970432,
           0.18497563270265455,
           411,
           0.21535360886659072,
           0.08427249905575553,
           0.09636236611996722,
           0.09949258975534113,
           0.26473978805891624,
           0.23977914814342924
          ],
          [
           412,
           -0.23607286965181973,
           0.6484456626233894,
           412,
           0.45456787760108164,
           0.040844863301810204,
           0.06829929214691265,
           0.1898130400097794,
           0.10182432598832007,
           0.14465060095209584
          ],
          [
           413,
           -2.071907780524174,
           0.23630607650328805,
           413,
           0.12689210894950612,
           0.08174382590607257,
           0.08299990984502974,
           0.4448854571803127,
           0.14042841241031287,
           0.12305028570876597
          ],
          [
           414,
           -0.5288392399211319,
           0.08892861897045728,
           414,
           0.1645677528483265,
           0.12574083835500618,
           0.11346313025373533,
           0.24991430824076682,
           0.18347284891674062,
           0.16284112138542442
          ],
          [
           415,
           -0.026967208953013855,
           0.06723023213311338,
           415,
           0.1804132117386225,
           0.1270020535531382,
           0.1316845476785556,
           0.12728439656542986,
           0.2962147055509061,
           0.13740108491334777
          ],
          [
           416,
           0.23379903921274836,
           0.17314010282214998,
           416,
           0.15166323165672577,
           0.16561767207407085,
           0.1251219231487372,
           0.12292523291731362,
           0.3557973763730346,
           0.07887456383011805
          ],
          [
           417,
           0.7486801180549957,
           0.1264258967419369,
           417,
           0.1623709160019254,
           0.10704611794835156,
           0.143258415160253,
           0.23773987542056976,
           0.2613365324076831,
           0.08824814306121706
          ],
          [
           418,
           0.06673604257911481,
           0.4417076995107357,
           418,
           0.28515060625294386,
           0.08342981233487111,
           0.12662322215228752,
           0.23094307158188992,
           0.22323824326016292,
           0.050615044417844667
          ],
          [
           419,
           0.6301158300025727,
           0.052814076290972484,
           419,
           0.19215177309647224,
           0.11059269794930097,
           0.17104907768892705,
           0.1915559737060984,
           0.21267405557100968,
           0.1219764219881917
          ],
          [
           420,
           1.5399830900952443,
           0.369913931283545,
           420,
           0.10759300013985888,
           0.06602059797635895,
           0.10475363611829491,
           0.40410768038886463,
           0.25348121975733756,
           0.06404386561928498
          ],
          [
           421,
           0.8173287621256293,
           0.09638093942910339,
           421,
           0.2444704920382016,
           0.10477645935304336,
           0.12798479420129782,
           0.12996307575564955,
           0.2703880651998153,
           0.1224171134519923
          ],
          [
           422,
           1.2817281973219128,
           0.09429074008614362,
           422,
           0.32012233769970067,
           0.16301546908977815,
           0.10185589367343552,
           0.14335421112088587,
           0.17793067286387496,
           0.09372141555232485
          ],
          [
           423,
           1.0392465572736684,
           0.03328381285089294,
           423,
           0.2850596266292371,
           0.11386383171119138,
           0.11770538130653335,
           0.14674271162693345,
           0.22829673786192892,
           0.1083317108641756
          ],
          [
           424,
           1.4770288668042395,
           0.15243011518979765,
           424,
           0.22487420859061324,
           0.0940932831199102,
           0.15107793507687062,
           0.12684490831173673,
           0.2385943788276816,
           0.16451528607318744
          ],
          [
           425,
           -1.5184100880962177,
           0.2772579271317923,
           425,
           0.12254025829217235,
           0.07372320382205394,
           0.08694171847717874,
           0.3499077868015299,
           0.2790648174255456,
           0.08782221518151948
          ],
          [
           426,
           -0.06480723332926541,
           0.18130276388489544,
           426,
           0.17495318552215627,
           0.13977027172490625,
           0.15535602730792997,
           0.1317032453297559,
           0.29021881831891233,
           0.10799845179633927
          ],
          [
           427,
           -0.7146916457060972,
           0.33672409491035177,
           427,
           0.22183427918799042,
           0.18638475308229202,
           0.06435491826062534,
           0.3214571066775287,
           0.14681316742340592,
           0.059155775368157644
          ],
          [
           428,
           -0.4974460353556873,
           0.061799642074514036,
           428,
           0.22769590018695193,
           0.13654297404357513,
           0.11456359633598828,
           0.1422513890329572,
           0.21007388278463363,
           0.16887225761589386
          ],
          [
           429,
           1.2950395605531104,
           0.3646371370665392,
           429,
           0.10393220988854664,
           0.08046383472752837,
           0.06525798124167481,
           0.36754038597420435,
           0.27907367258731447,
           0.10373191558073118
          ],
          [
           430,
           -0.2977286038125684,
           0.1939263426937048,
           430,
           0.1722627485391015,
           0.08629605048457145,
           0.1895385460369633,
           0.15657161480398907,
           0.2736506961616482,
           0.12168034397372648
          ],
          [
           431,
           -1.3522027707008313,
           0.16718277843600796,
           431,
           0.14437292743323035,
           0.09902036976555029,
           0.08835322533252228,
           0.4150440271170352,
           0.16008191526618715,
           0.09312753508547485
          ],
          [
           432,
           2.1033045501540966,
           0.18344072002628894,
           432,
           0.2393142366565225,
           0.160614770164854,
           0.08582805962463207,
           0.2540606611262263,
           0.15436006340212993,
           0.10582220902563523
          ],
          [
           433,
           -1.0190790436110884,
           0.12123381178037095,
           433,
           0.25239857416626904,
           0.09500393938940715,
           0.1982590348777504,
           0.11138417304614591,
           0.24071718650782928,
           0.10223709201259819
          ],
          [
           434,
           1.231102850753253,
           0.06902793252116327,
           434,
           0.25943226397466707,
           0.10624114250677102,
           0.1273119919365421,
           0.17402242379749147,
           0.23746752017865036,
           0.09552465760587805
          ],
          [
           435,
           -0.8925287304691996,
           0.3943504847131277,
           435,
           0.19583486859215707,
           0.12626309002674566,
           0.12470370152041886,
           0.2649509748438713,
           0.20489418774738546,
           0.0833531772694217
          ],
          [
           436,
           0.06265928196598736,
           0.34858943041186385,
           436,
           0.246287120890156,
           0.09114215387846125,
           0.20236912808077248,
           0.11570794887688811,
           0.25017786873365017,
           0.09431577954007205
          ],
          [
           437,
           1.2927942453432446,
           0.4366336014372533,
           437,
           0.12546164867813298,
           0.1378240328148394,
           0.18650336523165947,
           0.12105466717764429,
           0.35983639220218105,
           0.0693198938955426
          ],
          [
           438,
           0.15097625184694774,
           0.1101604209983088,
           438,
           0.1667961957442151,
           0.1133369386016286,
           0.13534897782366173,
           0.12099591376975742,
           0.32788310973579204,
           0.13563886432494524
          ],
          [
           439,
           1.5234025841919696,
           0.3638150807645617,
           439,
           0.1306016654702695,
           0.08402862995969593,
           0.08355760383323246,
           0.3372776158863928,
           0.13782771457287515,
           0.22670677027753416
          ]
         ],
         "hovertemplate": "PC1=%{x}<br>PC2=%{y}<br>Index=%{customdata[3]}<br>PC3=%{customdata[1]}<br>Anomaly Score=%{marker.color}<br>Fresh=%{customdata[4]}<br>Milk=%{customdata[5]}<br>Grocery=%{customdata[6]}<br>Frozen=%{customdata[7]}<br>Detergents_Paper=%{customdata[8]}<br>Delicassen=%{customdata[9]}<extra></extra>",
         "legendgroup": "",
         "marker": {
          "color": [
           0.18379499300312865,
           0.09072168310867051,
           0.23180401340331447,
           0.11752995632178166,
           0.18420608305614355,
           0.05749482360141574,
           0.09622098542361655,
           0.08090852282904842,
           0.05004768167061935,
           0.22692095629166276,
           0.19157887739231136,
           0.04906352082446954,
           0.3208439131492893,
           0.22049931516508356,
           0.28152135080257135,
           0.10798730095012825,
           0.34287119800469495,
           0.1458894451071817,
           0.13511285516995034,
           0.06900412109345365,
           0.0670989481293881,
           0.09866467776524611,
           0.2817419502082952,
           0.6087334960519144,
           0.2909250955015202,
           0.31294685461709065,
           0.08729104717842114,
           0.2153862401597551,
           0.39998754435276973,
           0.1281089187821593,
           0.1152348736034471,
           0.03230487401433978,
           0.17793405883038668,
           0.15804104684968925,
           0.17542347642121067,
           0.26566055252160575,
           0.15661333445622957,
           0.1889254358107635,
           0.43749831103188075,
           0.4711655119230103,
           0.2582887473770456,
           0.09604910804146297,
           0.398711414504373,
           0.5107161378992572,
           0.2566969051729594,
           0.3646082227756063,
           0.25292614660902685,
           0.8539255522662613,
           0.14380286412369372,
           0.38284432070377655,
           0.10257315212336111,
           0.1463034731767125,
           0.1756306696269485,
           0.38676376157747155,
           0.1451444787891674,
           0.005891748144911384,
           0.4631307730992396,
           0.3728894460427818,
           0.1302677886130175,
           0.19774205380388252,
           0.2725730354159205,
           0.7138375439412143,
           0.09605279237567783,
           0.21971994053630825,
           0.057064542152351946,
           0.9430828495413124,
           0.7502517362480261,
           0.1610995627507533,
           0.16675281017476848,
           0.13566129005757208,
           0.22493458587923404,
           0.46738921898933944,
           0.18505432600571375,
           0.1449632464456394,
           0.041208929677391884,
           0.666856488555795,
           0.2639390628804466,
           0.33831298773787577,
           0.1327384071193267,
           0.09152850801551983,
           0.1185042894564541,
           0.5685802839779551,
           0.13792122807482843,
           0.07280320392910537,
           0.15241352352200663,
           0.804792391675049,
           0.6467837125352877,
           0.4146835709559486,
           0.3757741373239791,
           0.1280852538328552,
           0.24788767769372094,
           0.10490448653816106,
           0.5509282403458232,
           0.4539036477136976,
           0.28402706888565477,
           0.6225665726025991,
           0.665079351225683,
           0.6678465287258321,
           0.658109019007599,
           0.13774489256049605,
           0.23601810007232718,
           0.2722791953340208,
           0.11585077486931203,
           0.36884689667199266,
           0.021454660698776155,
           0.14642716050330817,
           0.34171999238920736,
           0.22323743039325492,
           0.20974281571913106,
           0.45557860079306045,
           0.10881146512432874,
           0.21889962484314945,
           0.17558610825301396,
           0.05870884656027388,
           0.15796571169758908,
           0.0973640338532086,
           0.0723866998096063,
           0.018484806776922654,
           0.09830546863053183,
           0.06098966670313529,
           0.10622413213102799,
           0.11961651710594903,
           0.5232313572214838,
           0.1587401890821095,
           0.1537212048549386,
           0.36160874121454367,
           0.1764593679151118,
           0.14607096117908733,
           0.6271860058157803,
           0.21898083904650084,
           0.17677775150495273,
           0.4840490337391029,
           0.08569090170571336,
           0.18714352530847722,
           0.17299747432551116,
           0.09977352979528327,
           0.0997544144896737,
           0.23105922050570413,
           0.25160373409488673,
           0.0148284316716673,
           0.0631975949434025,
           0.35408982716753545,
           0.4643134213332735,
           0.20120273526203955,
           0.26835069931426236,
           0.6003594091248458,
           0.1383279722889767,
           0,
           0.27339114231072703,
           0.22831204885369435,
           0.12160390019057431,
           0.20791040864294372,
           0.1376463650110341,
           0.1330904474433483,
           1,
           0.4016576858181272,
           0.26726284627804436,
           0.07910657272832086,
           0.11637575605868412,
           0.4650552416110512,
           0.1875325367759775,
           0.481365241850385,
           0.060713017570171834,
           0.3681509547509952,
           0.13251182650186002,
           0.3007074557332418,
           0.16344207960408172,
           0.08450297163576968,
           0.25278862292906307,
           0.18811251115924624,
           0.4538804874408583,
           0.6814114422132007,
           0.22073971416080537,
           0.4091928039560251,
           0.3992630421721872,
           0.33643706813510127,
           0.26782626986529634,
           0.24030016348078434,
           0.13858067317611653,
           0.1336288232864953,
           0.1287790943617706,
           0.7402274261135147,
           0.39083645614423546,
           0.9745142770582528,
           0.6044381953062588,
           0.23849198035815275,
           0.2272611206839908,
           0.3615303401900841,
           0.1791029285314273,
           0.33477628996107167,
           0.32844722427148426,
           0.4207174894753949,
           0.13149729558298726,
           0.47024111380374695,
           0.07469067503079797,
           0.1467391857965401,
           0.31836459276401374,
           0.13045898956341112,
           0.03000675118892184,
           0.09169947983907185,
           0.32522443442055443,
           0.3698005759866251,
           0.327601828068632,
           0.44349530346448107,
           0.2948647500741058,
           0.3568105041453647,
           0.1951964922049492,
           0.2190896232482244,
           0.11723813867167227,
           0.2841270701937592,
           0.13326184008520436,
           0.5634973617844877,
           0.10646007473035315,
           0.0809967516755045,
           0.16349510151999352,
           0.2151243776568336,
           0.4935056910413419,
           0.13015276094862527,
           0.6951092046375045,
           0.33828699068073276,
           0.21109094354688007,
           0.2965629452464354,
           0.16997274600716283,
           0.08617826017270863,
           0.22604871985967626,
           0.021215151915480308,
           0.08697607583725024,
           0.07508715989002289,
           0.4034411728315741,
           0.06650737003332623,
           0.12211594512874285,
           0.10091799230726989,
           0.1239198708361768,
           0.32895673228302774,
           0.09935092039894387,
           0.11414039023314952,
           0.11386655111151299,
           0.3253587061693819,
           0.35587361371620774,
           0.18702835745326013,
           0.22679600994701876,
           0.07432946535379567,
           0.13221460172032656,
           0.06933646224400578,
           0.08595234186532351,
           0.31913109369782594,
           0.024787967825548714,
           0.39332045581229597,
           0.08336258681622534,
           0.107383788242062,
           0.08511897315740416,
           0.5760580738909307,
           0.14619628064314688,
           0.24485047755436581,
           0.19176539342743532,
           0.2975060197516234,
           0.09905869731852852,
           0.13548540878363746,
           0.2740624189008559,
           0.16272315517526964,
           0.09962848714973777,
           0.2979337545202841,
           0.11314253051110466,
           0.18056908815795603,
           0.42700658811939085,
           0.3334967099443564,
           0.38277927401073547,
           0.16223377755478297,
           0.1961565507691506,
           0.310429270402825,
           0.32003953804459695,
           0.1803479597395491,
           0.37385075160486264,
           0.21894181256833106,
           0.19741165851225934,
           0.5035734469015806,
           0.13174166048787703,
           0.3994601499080022,
           0.09557667377295341,
           0.10495478429573493,
           0.09623006310587343,
           0.06212397991031012,
           0.18154465376520906,
           0.20881349957453407,
           0.32509153802091156,
           0.35612802216814254,
           0.13381584821205897,
           0.121446426359073,
           0.2092929465838581,
           0.6201118085472692,
           0.08981727875283785,
           0.04441819188597761,
           0.04463357545157308,
           0.1713787512065579,
           0.07417018344173633,
           0.11615643910142863,
           0.05553620910384754,
           0.05506267908453384,
           0.0819161785715376,
           0.42195163822194925,
           0.08857363273605066,
           0.316716947137884,
           0.19808648795248096,
           0.365251552393935,
           0.6064308372977539,
           0.4498450508371049,
           0.23847381715507945,
           0.043579408977989176,
           0.13252911993236818,
           0.34867339347659965,
           0.19090725694495814,
           0.20794689042148876,
           0.3999683564021791,
           0.16351610429584224,
           0.01545291855194129,
           0.2889655748011289,
           0.13066385279291698,
           0.1258894369934606,
           0.14205883457691093,
           0.3578202056594796,
           0.15141682745547325,
           0.04965284077842888,
           0.1669850446652699,
           0.12259945998665925,
           0.1351429084255181,
           0.6465155876835429,
           0.08451059206877558,
           0.4137798890476914,
           0.1551997708719505,
           0.06562080096319602,
           0.07823974961594479,
           0.30474410274352426,
           0.17391248971423479,
           0.666463887733525,
           0.2797617499766018,
           0.17313460780494766,
           0.16230109513061977,
           0.11878823144642138,
           0.888442572855228,
           0.20156572939631143,
           0.40015157445030586,
           0.17473597558035475,
           0.41060245305240767,
           0.49038373990296263,
           0.13818343102875855,
           0.236171368779768,
           0.19218809227553857,
           0.18540529219096016,
           0.03390371557449831,
           0.31789679840744456,
           0.12039605556668946,
           0.4085840910816014,
           0.3948336612297023,
           0.6138101354648081,
           0.13570526576071335,
           0.581741158075266,
           0.6208679963179284,
           0.7753495614260207,
           0.41950101576934795,
           0.28956065777142903,
           0.06441862589285685,
           0.2349911591868865,
           0.16398802654043876,
           0.19197237153144409,
           0.1388492363689036,
           0.1272046367525966,
           0.08003067515752653,
           0.24856692348601367,
           0.16702773288527972,
           0.3815970820230431,
           0.13545094785923836,
           0.1414140276257519,
           0.17580052348403846,
           0.08654906080193,
           0.04328576125229015,
           0.2222969213023073,
           0.20625584982781953,
           0.20952824979754897,
           0.24228958731854622,
           0.23799855237856743,
           0.18203061588629005,
           0.21172781806147015,
           0.16802116268909095,
           0.15158700307535083,
           0.3290494372363002,
           0.12661933126857333,
           0.13515266051369187,
           0.10586135155794489,
           0.1578813769035574,
           0.09334216478084677,
           0.16465460824183573,
           0.17069645829096866,
           0.31703986066185985,
           0.17273935552225692,
           0.13233918605333328,
           0.1084020351553079,
           0.13680120225962095,
           0.22504855857680814,
           0.3339505705404622,
           0.18263786756453224,
           0.17941885366854296,
           0.31748804477070536,
           0.3642512124831759,
           0.2926361536311839,
           0.05264750986450788,
           0.10531065807415003,
           0.15974818710672561,
           0.2481504929022506,
           0.048556691570243775,
           0.11695936130957048,
           0.02383491016807867,
           0.18497563270265455,
           0.6484456626233894,
           0.23630607650328805,
           0.08892861897045728,
           0.06723023213311338,
           0.17314010282214998,
           0.1264258967419369,
           0.4417076995107357,
           0.052814076290972484,
           0.369913931283545,
           0.09638093942910339,
           0.09429074008614362,
           0.03328381285089294,
           0.15243011518979765,
           0.2772579271317923,
           0.18130276388489544,
           0.33672409491035177,
           0.061799642074514036,
           0.3646371370665392,
           0.1939263426937048,
           0.16718277843600796,
           0.18344072002628894,
           0.12123381178037095,
           0.06902793252116327,
           0.3943504847131277,
           0.34858943041186385,
           0.4366336014372533,
           0.1101604209983088,
           0.3638150807645617
          ],
          "coloraxis": "coloraxis",
          "size": 5,
          "symbol": "circle"
         },
         "mode": "markers",
         "name": "",
         "orientation": "v",
         "showlegend": false,
         "type": "scatter",
         "x": [
          1.4947779402371868,
          1.5765765073854734,
          1.6197921846964523,
          -1.2550487367243317,
          0.5213750533919175,
          0.8821849153915728,
          0.8784414775307425,
          1.3209507078851566,
          0.6819397912248544,
          2.6354245957277023,
          1.8527594039269673,
          -1.0749130821050237,
          1.9272919503357038,
          1.616430393639705,
          2.016585180172207,
          -0.5783608363413766,
          2.576713937471405,
          -0.26844004966306834,
          1.127449532596577,
          0.8062232253587087,
          0.5583839273691069,
          -1.737732252642326,
          -0.20972731797857413,
          2.5489668571362234,
          1.7724376156823567,
          1.0808061823098765,
          -1.8215407488418656,
          -2.0382007434179243,
          3.349872070046594,
          -0.819790604440314,
          0.8664290693621677,
          -0.10462308029978651,
          -0.7756549540648798,
          -0.8191419480025601,
          -0.6257783773511516,
          2.000620533849542,
          -0.09184218860799298,
          1.9114306050748375,
          2.9775706816063376,
          -3.0542845318977063,
          -0.21663149976278007,
          0.506167667213461,
          2.1089243685313317,
          3.1068062523718964,
          1.52272146556186,
          3.059206927017673,
          2.779522975764044,
          4.036043535118985,
          1.7960727603001256,
          3.430613252637368,
          -1.2705692116034282,
          0.8192095144422744,
          0.5804929361564337,
          2.5010733674404975,
          -2.029448784273196,
          0.6158789013394461,
          3.711096341100264,
          2.690281651323561,
          -1.6708643412954167,
          1.597855812802237,
          1.2795056293776383,
          4.046197102271211,
          1.0892966340209842,
          2.274697103522218,
          -0.5637218569106981,
          5.259977879766797,
          1.5938507624069924,
          1.632663818479573,
          0.17263400526311834,
          -1.0981996138764902,
          -2.0527784659720822,
          1.1166621294791579,
          -0.35916552447536,
          -0.28494991552253524,
          1.062373937220201,
          -4.424152226266276,
          -0.08570460866535967,
          3.036759606061846,
          -1.8913017635992588,
          0.39419400173488484,
          -0.9928835512120155,
          3.0414043282331367,
          1.7703558975685247,
          -1.517050298249261,
          0.5665289144360539,
          5.055483356571379,
          4.041019325011522,
          0.3772155384609519,
          -2.4506716063524623,
          -0.6665815032854052,
          -2.883459131266986,
          -1.134393654737213,
          3.7644694939317898,
          -2.3032246224551463,
          2.2052631063575543,
          0.25666383905119083,
          2.048192659088082,
          -2.898692634003753,
          -3.0264967279463395,
          -1.9378307091605507,
          2.044345152220762,
          2.710195469534332,
          1.5928009795029876,
          -0.24499251081708273,
          -0.32129822870082947,
          -1.7056347568612473,
          2.6488937574311073,
          2.369645509034129,
          1.7587531603788378,
          1.5854905017748528,
          -1.9115475986028958,
          2.3747603296005924,
          -1.2755211945517058,
          -1.2335388676793215,
          -2.291435917739462,
          -1.8441191300047937,
          -1.2576910902407779,
          -0.5735054040573608,
          -1.5933330158241628,
          -1.5777471991033725,
          -1.831701838042786,
          -1.4697068485322298,
          -4.077397259625116,
          0.8407607135541344,
          -1.471682706582742,
          -0.9314448214655098,
          -2.00325282596137,
          1.2276453103095317,
          1.078074429752542,
          -1.9645519535730482,
          -1.882133219851081,
          -2.8711655359956945,
          -0.7033472039749107,
          -1.8868555068670254,
          -1.986996945467391,
          -1.6736450389637945,
          1.0696830439510308,
          0.44883710099601437,
          -0.3408910525278994,
          -0.16087235830755375,
          0.10090105660096782,
          -0.775738232924887,
          -1.7422680340097703,
          -2.0985851528787443,
          -0.8083220657539876,
          3.4035635733033924,
          -1.9189620657429511,
          -0.35516975121815797,
          -2.6988438258783294,
          -2.1829133535433805,
          -1.7947961228227065,
          -0.6323884116621858,
          -1.723730252787787,
          -0.3058948200842817,
          -3.876665739916903,
          3.4149369512860765,
          2.481090260531115,
          -1.2885498881457025,
          1.8274058123876067,
          2.9148784154005103,
          1.9359042433438542,
          -3.6124344431080706,
          -1.4961571547557764,
          3.0875552443077687,
          1.261948645359933,
          2.2633535368495323,
          1.9366621735571528,
          0.4495438177805209,
          -2.7706254681930655,
          -2.3902215402263502,
          2.7152638621815264,
          4.010290744392037,
          1.6111187458130711,
          3.0835600772805165,
          -0.8536757141401612,
          2.438914891656193,
          -0.1360291381433587,
          -1.2774376073669025,
          -0.9513561934794676,
          -0.8621169232964725,
          0.9481897806823376,
          1.8445644590315613,
          2.497885083608489,
          0.5262599946936195,
          -0.49727421202620015,
          -2.005415195587359,
          -1.6306458913564317,
          1.1466008768319558,
          1.7790825360888878,
          2.609441415159374,
          -2.0142993312520012,
          -3.245807727177045,
          -1.539627076659654,
          2.5316250305060013,
          -1.2407617698259124,
          -0.8708378225909073,
          -0.502381280435662,
          1.9322967797990263,
          -0.6666073997185649,
          -1.127714538985133,
          2.8043498509653713,
          3.1557639308233085,
          -0.1422517612553893,
          -0.6755813132029331,
          -1.8361353740101585,
          3.16448855785311,
          -2.1237924835755972,
          1.2053211899681155,
          1.1486727663004341,
          2.9367866976972277,
          -1.7984816612426933,
          3.700121411796143,
          -1.6462807225255247,
          1.5271347940621212,
          2.126874437323485,
          2.506709221827597,
          3.8549521227119428,
          -2.126821757371067,
          3.0208397421899544,
          -2.879966655633301,
          -2.7181238222050794,
          1.9320802191713131,
          -1.8418249893964447,
          -0.26432612984925186,
          -2.4683280476170912,
          -0.2936313169184306,
          0.9332814236416578,
          -1.5029897689867333,
          -0.5169938449127542,
          -0.9719120083797144,
          -0.050784714753207894,
          0.7954734266716379,
          -1.2754784875748566,
          -0.38596534789961723,
          -1.123044860239018,
          0.2923362565389809,
          -1.6249331259083455,
          -2.796066261044486,
          -3.1737349360923286,
          -0.9042717182101185,
          -0.9383135125483992,
          -1.4619361433974305,
          -1.682908554526314,
          0.533014173412834,
          1.6143773549710136,
          2.782602587978694,
          -1.275393881413457,
          -3.6053843458916734,
          -0.5799806217496979,
          -0.8552044250842936,
          -1.4350319586071176,
          3.6504320589296473,
          -1.3857588388519222,
          0.30538476399135916,
          0.8217518732595739,
          -2.9976830965440175,
          -0.3732360938596724,
          -0.1355141336947021,
          -1.0342918547055824,
          -0.25271676391172626,
          -0.2810162334019033,
          -2.988090252792083,
          -1.630347742792713,
          0.3124295297149544,
          3.004851241378116,
          1.049287758972966,
          2.7520330221996403,
          -1.181267501413524,
          2.1582626898997255,
          -2.7578508146707827,
          -2.5676845777057906,
          -1.0625244666921283,
          0.03620799318017198,
          -1.9781896734648114,
          -0.3870725518002178,
          -2.403491638637308,
          -0.4854683872602763,
          -2.490849406223499,
          -1.5422158298942552,
          1.3103757570819283,
          -1.1523781530481898,
          0.9879302646109043,
          -0.6103994601221459,
          -1.6680173781947705,
          -0.3141643777345351,
          -1.9267824677673833,
          -0.9289680894099188,
          -1.514114914443999,
          -2.053772175433208,
          -4.14980575129125,
          -0.09338800389698676,
          -1.1833632801699352,
          -0.20967972117870204,
          2.2866081775616394,
          -0.2955861997091187,
          0.329400266472744,
          -1.1151499570238386,
          0.8872746223486168,
          1.5356367091121204,
          -1.0194269344009772,
          1.0115835580734505,
          2.542126719396281,
          2.060035547338094,
          2.1905872217315387,
          3.6987176079491864,
          2.3189369782066045,
          2.642700517429086,
          -1.1903845067445094,
          -1.3536712160499036,
          2.9116797312002802,
          -1.7704965775275543,
          -1.1397187714414176,
          2.6530091796199553,
          -2.2198306870942286,
          -0.2225676842371609,
          2.550197175236052,
          -2.104422694136611,
          0.424778366755989,
          -0.9040562250426394,
          3.177265135135107,
          -0.6419258846995959,
          -1.2131086496283157,
          -1.0857457346627584,
          0.0915342069725984,
          -1.7098281214535724,
          0.5281088348814276,
          -1.5459369346623877,
          -1.639385690617722,
          -1.6762131055269638,
          -1.0094024611869852,
          -1.4187616327863015,
          2.8903364105936262,
          -1.7535340061547071,
          4.205770419983908,
          -1.8719888919518954,
          1.4122208863677113,
          -2.0275437511441954,
          -1.5721744729077187,
          -1.9055841141449203,
          -0.8026532610526207,
          2.520798912519215,
          2.122900752401126,
          2.2027638994300407,
          2.956037101397772,
          -1.8018654787082884,
          1.452183243931504,
          2.190878511067597,
          1.3570873412487519,
          -0.358487408168191,
          2.85860086827474,
          -1.7559487449906506,
          3.338439244872328,
          -1.816228076966409,
          3.4314239837588136,
          -0.11787015433846193,
          -1.238151632094926,
          -4.585499191933656,
          2.546600146761584,
          0.19494076731731624,
          -0.3535274738477536,
          -1.3573278976864867,
          -2.4963044560574845,
          -1.2286698605422224,
          -0.10704258649180787,
          -1.355719169591806,
          1.6679223786362094,
          -1.661937104086343,
          -2.3297180732453135,
          -2.3184879001928334,
          -3.2960579043170375,
          -0.5853693193608809,
          -1.464192899795707,
          -0.6217994888625409,
          0.8392865919597927,
          -1.395571215429344,
          -1.5388662221134428,
          1.8546108799432055,
          -1.7922239016498462,
          -1.324695842159457,
          0.7013428337291288,
          -1.8510244066786417,
          -1.816320463902919,
          0.6292582347956781,
          -1.1219198943921196,
          0.5736477454208,
          -2.183942831151569,
          -0.5468661053749386,
          -1.8987540844289086,
          -2.33952658097711,
          -1.9955466703273999,
          -1.8281891451395555,
          -1.2872746178751129,
          -0.5652596886423531,
          -0.996934139947717,
          -1.9958764619819078,
          -1.4754687467687742,
          1.7159252999242796,
          -2.6157765375638764,
          -3.2355014948111283,
          -2.145346820007388,
          -2.2760064369433097,
          -2.2956968002508207,
          -1.5275056972538064,
          0.14159383067251596,
          -0.5373900944331123,
          -1.6557590592513503,
          -0.39570180508878927,
          2.374897781392921,
          0.6516159892837159,
          0.6788039989345247,
          0.2454382426324777,
          -0.61414901245303,
          2.0669608095918974,
          -0.04827927023269574,
          -0.6752933039560709,
          1.3532266638463906,
          2.3226626116794815,
          1.703092285033236,
          3.0855110889021873,
          0.09221002154306213,
          2.527959929262174,
          1.1796637325706634,
          -0.6547132901607906,
          0.19326915771008757,
          0.8758074934883293,
          -2.054838536157728,
          1.8162464332950812,
          -0.4851903925538146,
          0.10537341992487192,
          -1.1535306593526382,
          0.2843283233305378,
          0.024173891181645146,
          -0.35455153278451235,
          -0.9055267166606367,
          0.7687958873192908,
          -0.43164785225417823,
          -2.889619916770089,
          3.442521811030952,
          -1.510387083338106,
          -0.7069017544228764
         ],
         "xaxis": "x",
         "y": [
          0.07607656660686146,
          0.729450771046114,
          1.3481846335324512,
          1.1849974191115429,
          2.17258389940735,
          0.25215750560164807,
          -0.20007773964947084,
          0.7505981782564035,
          -0.657430774008672,
          0.6358418241897716,
          0.6036267148194092,
          -0.03543072228938371,
          1.2632925359809342,
          1.3812325995559966,
          0.9378140696543191,
          -0.8421321143798348,
          -1.8188447266768488,
          0.25807348271433384,
          1.654475230148563,
          -0.42153753427090557,
          0.925472837578873,
          -0.33434538120837765,
          2.5137915013203163,
          3.4791985218360466,
          2.325922463607313,
          -0.8262834252388789,
          0.2134928898117252,
          -0.631943013431151,
          0.9087043795237477,
          0.9944695097958842,
          1.2003578607051502,
          -0.48420101616124356,
          -0.4808421680494295,
          1.88199175538076,
          -2.137778379876485,
          -1.7950203240547467,
          1.8056561086651826,
          1.0563906579645277,
          -1.2258484270189989,
          2.255529224817561,
          2.591305000896071,
          1.3644834759129552,
          -0.9231687110847346,
          -2.047569271421658,
          -0.626140672628761,
          1.2306670725709878,
          0.27412731127111556,
          3.976087237207313,
          0.4306987000694953,
          0.7151991764841945,
          0.3748859814347014,
          -1.5577477493104102,
          1.0209971375672247,
          -2.0993441811861793,
          1.0064137261731894,
          -0.20484923154629087,
          0.8950117432888973,
          -0.8557597942309165,
          -0.4955363560086763,
          -0.6359442193476834,
          -1.2594811191497222,
          2.8666002889630136,
          0.8631591741646041,
          1.1984629856942277,
          0.04003715236154193,
          -2.8306094986525316,
          -4.739891640354072,
          1.0028583993973221,
          0.5614618651604921,
          -0.9577522684678925,
          1.5182429421987784,
          2.475489087008647,
          0.09299927480921966,
          1.6330721610212287,
          0.564641509258351,
          0.48954370598962527,
          -0.7022049552851488,
          0.829149596083468,
          -0.4290092201566207,
          -1.0447404688244841,
          -1.1024209635211513,
          -3.0129914927619907,
          0.7052821850768467,
          0.6359059792570818,
          -0.2750104386589438,
          2.0053591621477977,
          1.7108491793993217,
          3.2754164422545493,
          -0.2140524916353499,
          1.8055367553809027,
          -0.14114178185237947,
          1.2499182509497935,
          2.0980828154210585,
          2.1328408858739074,
          -0.9549429438597361,
          -3.7029944066152005,
          -4.2149283942379245,
          -3.7578628967420578,
          -3.5008967814779837,
          0.27623568312348823,
          1.61756439432013,
          -0.28222580816305687,
          0.10825623013397134,
          3.227598529762435,
          0.1626540041011708,
          0.15256707256483892,
          -1.4506285912846675,
          1.0962289025479528,
          -1.4098710003825392,
          -1.8286947167931533,
          0.46287418239766964,
          0.8457241373005253,
          1.8682305253480358,
          0.8770779729969362,
          0.6430283457886397,
          0.08507325921139142,
          -0.26876322382653584,
          0.14525037229857318,
          1.151455906968085,
          0.2422892854112142,
          0.6381186015618496,
          -0.7757563346884826,
          -0.4517223174864107,
          0.31053896979076967,
          1.7276213318201243,
          2.9579682690798315,
          1.0494757042890512,
          1.2874746827366792,
          -4.109219725077624,
          1.1743124063987374,
          0.4060985009718685,
          -2.59787376326447,
          -0.42631133438822744,
          -1.0852765205959063,
          -0.8002264809778126,
          -0.8668366843249089,
          0.7691335922297284,
          -1.510163350075734,
          0.02483291807677901,
          -0.4213683016022145,
          1.3779050052217912,
          0.7357715764964965,
          0.7113799567384156,
          0.4227497072112314,
          -0.9186923629699315,
          0.7738577453636175,
          -0.6460441607833367,
          -0.1217931703232189,
          -0.530551638596517,
          0.5703174182990054,
          0.07979294121076919,
          -1.5372070344992057,
          0.25662633153268644,
          -0.4890784451571175,
          -4.829596795220651,
          -0.7793359720197124,
          -0.27389392128005063,
          0.5275669912812866,
          -0.2968575131600897,
          -2.4821213972225653,
          -0.6825424972454481,
          -0.2018495009432364,
          0.5033891415948908,
          0.5091434159502057,
          -0.06090188069866542,
          2.0456456989919864,
          0.4069201582655211,
          -1.308190386117813,
          -1.0286178630052856,
          -0.5122443726422166,
          -2.164888574661946,
          -1.1461890379593953,
          -1.9030589701918075,
          -1.5578240558771608,
          -1.9061613437876481,
          -1.3453112283915623,
          1.8939837228304945,
          0.956982081821117,
          -0.0063915537015475365,
          0.2716371338182597,
          0.46998801731814766,
          4.7775715444211855,
          -2.2550758350407225,
          5.031634363992254,
          -4.332158224843074,
          -0.2689526114164682,
          -0.8155760175657392,
          -0.5951867819471364,
          0.5178035802590557,
          -1.4552108496044074,
          0.6233708608852027,
          -1.179279730570217,
          -1.228669017168599,
          -2.324791251173302,
          -0.5279166805078468,
          1.7665187491656056,
          2.915701989766024,
          -0.3418628133982402,
          0.63083878989044,
          -0.7950659678930734,
          0.4505317113918643,
          1.0171429648595591,
          2.596706435716829,
          -3.4649128241653813,
          -1.1465021405692823,
          -0.9626537594008067,
          -1.2369645938329494,
          -0.783860005968565,
          -0.8534699933791163,
          0.12136222769216332,
          0.7800576048725425,
          2.2885239143436458,
          -0.18326850350869073,
          -0.19255361580512798,
          -0.6768372055907559,
          0.19468871820065203,
          -0.9595705151510661,
          0.6726342945509032,
          -1.817737560667668,
          -1.415071122463166,
          0.02767028254740822,
          -1.3532680509082198,
          -0.06800897420218988,
          0.12403971763826505,
          -0.9437046409749268,
          -0.03550292617515893,
          1.3142664101402346,
          -0.5442621434246071,
          -2.11829775355268,
          0.8093868043973238,
          1.6564860279681817,
          -0.739011862785734,
          0.3001910030524506,
          -2.4718639373218068,
          1.3681340654822982,
          -1.306332483150495,
          -0.4649675401395683,
          1.0372004244205186,
          -1.2962907489878788,
          2.241689775196395,
          2.249136776846214,
          0.9059165919318062,
          0.5706321548234854,
          0.3139351939541086,
          0.45159297214950556,
          -0.5619501837726215,
          -0.10314951248925297,
          -0.29220777894646055,
          -0.0513837310732157,
          0.3633631305605469,
          -0.841623915123968,
          2.150713118145056,
          0.8323020931413083,
          0.9223095021174004,
          1.7239001110825463,
          0.7094424093120324,
          -0.459327465716699,
          0.6171224477199075,
          2.657158049968423,
          1.889720900050719,
          -0.6790241658520362,
          -0.052502298104585066,
          0.19608332995213118,
          -0.6796747073002312,
          -1.852870694757474,
          1.9205133531172613,
          -0.5719606461041593,
          1.5042917369791695,
          0.5969599352982904,
          -0.38116089921847873,
          -0.8768838186658368,
          -0.8946348056380451,
          -2.011768552936502,
          1.796689888538193,
          -1.8901260121568306,
          -2.7073197523613146,
          1.9656414182644042,
          0.2900739054075352,
          1.0030993838914952,
          1.1126979393626435,
          -0.8153177792629585,
          0.8091130015793766,
          2.2644735151969826,
          1.9113731263170983,
          3.0462330217139346,
          -0.19563315518119673,
          -0.7710983555336153,
          1.2655659752355781,
          -0.6187522041492777,
          -0.4571316847070275,
          -1.1153905233536534,
          -0.05456058468509184,
          -0.12935745873452476,
          -0.2203677032150253,
          0.7590047560717679,
          -0.9953427969762654,
          0.8250176578898625,
          0.02098448575358347,
          0.05431352431948966,
          -3.419713098477576,
          0.8550712789157267,
          -0.03273917819193528,
          -1.1261573080080733,
          -1.6553887546566077,
          -1.8666289886346927,
          -2.4786117034699036,
          0.8404744355638343,
          0.35220496497760934,
          -1.0410623008882585,
          -0.8015709784672733,
          0.85339235929046,
          0.7066908173499513,
          -1.1131501211281254,
          -0.00923104263271668,
          0.34207332780147226,
          -0.41153215998627246,
          -0.00560045617463345,
          -1.1768817611108595,
          -0.3158275155748882,
          1.0584782396264423,
          -1.581941086120274,
          0.39763803813513476,
          0.24873026734599435,
          -0.043033239926391076,
          1.0832018020757097,
          4.164169139844908,
          -0.26191819408687955,
          -2.962882509972065,
          1.4612290643880463,
          0.1251512373851007,
          0.5349269067625038,
          0.9803926006265122,
          1.1952124547475869,
          -0.11263221647189958,
          1.7917409932890074,
          1.5778955347640498,
          -0.34163992085117556,
          0.7480536631340904,
          -2.5218688231885853,
          0.3209784366086339,
          -2.121234079041855,
          -0.4268266841553192,
          -2.4033299366225442,
          -1.2745189930038894,
          -1.075289788737381,
          -2.0708768497950096,
          0.13613638914756976,
          1.69046860757215,
          -0.8129439242007148,
          0.42601023798928495,
          -0.7507024804641791,
          -0.07804450583489242,
          -2.861399660363661,
          -2.7689170101671685,
          1.6892333950720655,
          -4.1377680699519335,
          -0.01812702547503875,
          -4.311389887598635,
          -0.00492228764266045,
          -2.222869888881773,
          0.6340644843647816,
          -1.2660135525767853,
          -1.6603271916787712,
          -1.7476296776732276,
          -1.488529499420851,
          0.5162366151378563,
          -0.41085444301220697,
          -1.4076466502546872,
          0.42582970225755545,
          -1.3863831851610122,
          1.5477133414481763,
          1.3084453770700613,
          -0.1492347331036914,
          1.250499198376815,
          -0.42015882160461615,
          -1.6378374414435548,
          0.6940063223305337,
          0.9876018870531631,
          -1.400960957881967,
          -1.7042307387176923,
          0.6838356907301772,
          1.2959313662569905,
          2.1101876260195773,
          -1.0145831138596524,
          1.9045246549358694,
          0.23415099467839795,
          -1.1338595365324036,
          0.6235999771935674,
          -0.49206473417279284,
          0.08894038406579696,
          -0.23919722707211122,
          -0.856304942149757,
          -2.296726723419752,
          1.7831589285641236,
          -0.2637718296444973,
          -0.18130156207487502,
          0.7423661926890297,
          0.6535896210458674,
          -0.02781037254123575,
          -0.6158231334049376,
          -0.34108677022279466,
          2.1090863942011673,
          -0.24969710702305647,
          -0.2330282686496954,
          1.1439440346233027,
          -0.5738564689141299,
          1.9691580848863346,
          0.7553693612293202,
          -0.03524224670651677,
          1.1464358002362687,
          0.14995553581481147,
          -0.3065149671479741,
          -4.1565286337013525,
          1.5102853655026358,
          0.03648129618217055,
          0.6916755229511544,
          -0.09032055149661389,
          -0.51106985768598,
          -2.1500469158675894,
          -0.06894748200728174,
          -1.1218117797876737,
          0.9439145221655281,
          0.5847600770792027,
          0.4376470280239033,
          0.10422101705955455,
          1.5549751145931197,
          1.5397743090564013,
          2.6310972221562103,
          -0.6177084803226442,
          -0.9435870941331466,
          -0.5388827247060508,
          1.5718657233886546,
          -0.44643983732449044,
          -0.8660306859048976,
          0.38154592791514474,
          2.8057090060068575,
          1.6497455828297696,
          0.9437386397458312,
          0.15648383013802913,
          -2.8117521845675704
         ],
         "yaxis": "y"
        }
       ],
       "layout": {
        "coloraxis": {
         "colorbar": {
          "title": {
           "text": "Anomaly Score"
          }
         },
         "colorscale": [
          [
           0,
           "#0d0887"
          ],
          [
           0.1111111111111111,
           "#46039f"
          ],
          [
           0.2222222222222222,
           "#7201a8"
          ],
          [
           0.3333333333333333,
           "#9c179e"
          ],
          [
           0.4444444444444444,
           "#bd3786"
          ],
          [
           0.5555555555555556,
           "#d8576b"
          ],
          [
           0.6666666666666666,
           "#ed7953"
          ],
          [
           0.7777777777777778,
           "#fb9f3a"
          ],
          [
           0.8888888888888888,
           "#fdca26"
          ],
          [
           1,
           "#f0f921"
          ]
         ]
        },
        "legend": {
         "tracegroupgap": 0
        },
        "margin": {
         "t": 60
        },
        "template": {
         "data": {
          "bar": [
           {
            "error_x": {
             "color": "#2a3f5f"
            },
            "error_y": {
             "color": "#2a3f5f"
            },
            "marker": {
             "line": {
              "color": "#E5ECF6",
              "width": 0.5
             },
             "pattern": {
              "fillmode": "overlay",
              "size": 10,
              "solidity": 0.2
             }
            },
            "type": "bar"
           }
          ],
          "barpolar": [
           {
            "marker": {
             "line": {
              "color": "#E5ECF6",
              "width": 0.5
             },
             "pattern": {
              "fillmode": "overlay",
              "size": 10,
              "solidity": 0.2
             }
            },
            "type": "barpolar"
           }
          ],
          "carpet": [
           {
            "aaxis": {
             "endlinecolor": "#2a3f5f",
             "gridcolor": "white",
             "linecolor": "white",
             "minorgridcolor": "white",
             "startlinecolor": "#2a3f5f"
            },
            "baxis": {
             "endlinecolor": "#2a3f5f",
             "gridcolor": "white",
             "linecolor": "white",
             "minorgridcolor": "white",
             "startlinecolor": "#2a3f5f"
            },
            "type": "carpet"
           }
          ],
          "choropleth": [
           {
            "colorbar": {
             "outlinewidth": 0,
             "ticks": ""
            },
            "type": "choropleth"
           }
          ],
          "contour": [
           {
            "colorbar": {
             "outlinewidth": 0,
             "ticks": ""
            },
            "colorscale": [
             [
              0,
              "#0d0887"
             ],
             [
              0.1111111111111111,
              "#46039f"
             ],
             [
              0.2222222222222222,
              "#7201a8"
             ],
             [
              0.3333333333333333,
              "#9c179e"
             ],
             [
              0.4444444444444444,
              "#bd3786"
             ],
             [
              0.5555555555555556,
              "#d8576b"
             ],
             [
              0.6666666666666666,
              "#ed7953"
             ],
             [
              0.7777777777777778,
              "#fb9f3a"
             ],
             [
              0.8888888888888888,
              "#fdca26"
             ],
             [
              1,
              "#f0f921"
             ]
            ],
            "type": "contour"
           }
          ],
          "contourcarpet": [
           {
            "colorbar": {
             "outlinewidth": 0,
             "ticks": ""
            },
            "type": "contourcarpet"
           }
          ],
          "heatmap": [
           {
            "colorbar": {
             "outlinewidth": 0,
             "ticks": ""
            },
            "colorscale": [
             [
              0,
              "#0d0887"
             ],
             [
              0.1111111111111111,
              "#46039f"
             ],
             [
              0.2222222222222222,
              "#7201a8"
             ],
             [
              0.3333333333333333,
              "#9c179e"
             ],
             [
              0.4444444444444444,
              "#bd3786"
             ],
             [
              0.5555555555555556,
              "#d8576b"
             ],
             [
              0.6666666666666666,
              "#ed7953"
             ],
             [
              0.7777777777777778,
              "#fb9f3a"
             ],
             [
              0.8888888888888888,
              "#fdca26"
             ],
             [
              1,
              "#f0f921"
             ]
            ],
            "type": "heatmap"
           }
          ],
          "heatmapgl": [
           {
            "colorbar": {
             "outlinewidth": 0,
             "ticks": ""
            },
            "colorscale": [
             [
              0,
              "#0d0887"
             ],
             [
              0.1111111111111111,
              "#46039f"
             ],
             [
              0.2222222222222222,
              "#7201a8"
             ],
             [
              0.3333333333333333,
              "#9c179e"
             ],
             [
              0.4444444444444444,
              "#bd3786"
             ],
             [
              0.5555555555555556,
              "#d8576b"
             ],
             [
              0.6666666666666666,
              "#ed7953"
             ],
             [
              0.7777777777777778,
              "#fb9f3a"
             ],
             [
              0.8888888888888888,
              "#fdca26"
             ],
             [
              1,
              "#f0f921"
             ]
            ],
            "type": "heatmapgl"
           }
          ],
          "histogram": [
           {
            "marker": {
             "pattern": {
              "fillmode": "overlay",
              "size": 10,
              "solidity": 0.2
             }
            },
            "type": "histogram"
           }
          ],
          "histogram2d": [
           {
            "colorbar": {
             "outlinewidth": 0,
             "ticks": ""
            },
            "colorscale": [
             [
              0,
              "#0d0887"
             ],
             [
              0.1111111111111111,
              "#46039f"
             ],
             [
              0.2222222222222222,
              "#7201a8"
             ],
             [
              0.3333333333333333,
              "#9c179e"
             ],
             [
              0.4444444444444444,
              "#bd3786"
             ],
             [
              0.5555555555555556,
              "#d8576b"
             ],
             [
              0.6666666666666666,
              "#ed7953"
             ],
             [
              0.7777777777777778,
              "#fb9f3a"
             ],
             [
              0.8888888888888888,
              "#fdca26"
             ],
             [
              1,
              "#f0f921"
             ]
            ],
            "type": "histogram2d"
           }
          ],
          "histogram2dcontour": [
           {
            "colorbar": {
             "outlinewidth": 0,
             "ticks": ""
            },
            "colorscale": [
             [
              0,
              "#0d0887"
             ],
             [
              0.1111111111111111,
              "#46039f"
             ],
             [
              0.2222222222222222,
              "#7201a8"
             ],
             [
              0.3333333333333333,
              "#9c179e"
             ],
             [
              0.4444444444444444,
              "#bd3786"
             ],
             [
              0.5555555555555556,
              "#d8576b"
             ],
             [
              0.6666666666666666,
              "#ed7953"
             ],
             [
              0.7777777777777778,
              "#fb9f3a"
             ],
             [
              0.8888888888888888,
              "#fdca26"
             ],
             [
              1,
              "#f0f921"
             ]
            ],
            "type": "histogram2dcontour"
           }
          ],
          "mesh3d": [
           {
            "colorbar": {
             "outlinewidth": 0,
             "ticks": ""
            },
            "type": "mesh3d"
           }
          ],
          "parcoords": [
           {
            "line": {
             "colorbar": {
              "outlinewidth": 0,
              "ticks": ""
             }
            },
            "type": "parcoords"
           }
          ],
          "pie": [
           {
            "automargin": true,
            "type": "pie"
           }
          ],
          "scatter": [
           {
            "fillpattern": {
             "fillmode": "overlay",
             "size": 10,
             "solidity": 0.2
            },
            "type": "scatter"
           }
          ],
          "scatter3d": [
           {
            "line": {
             "colorbar": {
              "outlinewidth": 0,
              "ticks": ""
             }
            },
            "marker": {
             "colorbar": {
              "outlinewidth": 0,
              "ticks": ""
             }
            },
            "type": "scatter3d"
           }
          ],
          "scattercarpet": [
           {
            "marker": {
             "colorbar": {
              "outlinewidth": 0,
              "ticks": ""
             }
            },
            "type": "scattercarpet"
           }
          ],
          "scattergeo": [
           {
            "marker": {
             "colorbar": {
              "outlinewidth": 0,
              "ticks": ""
             }
            },
            "type": "scattergeo"
           }
          ],
          "scattergl": [
           {
            "marker": {
             "colorbar": {
              "outlinewidth": 0,
              "ticks": ""
             }
            },
            "type": "scattergl"
           }
          ],
          "scattermapbox": [
           {
            "marker": {
             "colorbar": {
              "outlinewidth": 0,
              "ticks": ""
             }
            },
            "type": "scattermapbox"
           }
          ],
          "scatterpolar": [
           {
            "marker": {
             "colorbar": {
              "outlinewidth": 0,
              "ticks": ""
             }
            },
            "type": "scatterpolar"
           }
          ],
          "scatterpolargl": [
           {
            "marker": {
             "colorbar": {
              "outlinewidth": 0,
              "ticks": ""
             }
            },
            "type": "scatterpolargl"
           }
          ],
          "scatterternary": [
           {
            "marker": {
             "colorbar": {
              "outlinewidth": 0,
              "ticks": ""
             }
            },
            "type": "scatterternary"
           }
          ],
          "surface": [
           {
            "colorbar": {
             "outlinewidth": 0,
             "ticks": ""
            },
            "colorscale": [
             [
              0,
              "#0d0887"
             ],
             [
              0.1111111111111111,
              "#46039f"
             ],
             [
              0.2222222222222222,
              "#7201a8"
             ],
             [
              0.3333333333333333,
              "#9c179e"
             ],
             [
              0.4444444444444444,
              "#bd3786"
             ],
             [
              0.5555555555555556,
              "#d8576b"
             ],
             [
              0.6666666666666666,
              "#ed7953"
             ],
             [
              0.7777777777777778,
              "#fb9f3a"
             ],
             [
              0.8888888888888888,
              "#fdca26"
             ],
             [
              1,
              "#f0f921"
             ]
            ],
            "type": "surface"
           }
          ],
          "table": [
           {
            "cells": {
             "fill": {
              "color": "#EBF0F8"
             },
             "line": {
              "color": "white"
             }
            },
            "header": {
             "fill": {
              "color": "#C8D4E3"
             },
             "line": {
              "color": "white"
             }
            },
            "type": "table"
           }
          ]
         },
         "layout": {
          "annotationdefaults": {
           "arrowcolor": "#2a3f5f",
           "arrowhead": 0,
           "arrowwidth": 1
          },
          "autotypenumbers": "strict",
          "coloraxis": {
           "colorbar": {
            "outlinewidth": 0,
            "ticks": ""
           }
          },
          "colorscale": {
           "diverging": [
            [
             0,
             "#8e0152"
            ],
            [
             0.1,
             "#c51b7d"
            ],
            [
             0.2,
             "#de77ae"
            ],
            [
             0.3,
             "#f1b6da"
            ],
            [
             0.4,
             "#fde0ef"
            ],
            [
             0.5,
             "#f7f7f7"
            ],
            [
             0.6,
             "#e6f5d0"
            ],
            [
             0.7,
             "#b8e186"
            ],
            [
             0.8,
             "#7fbc41"
            ],
            [
             0.9,
             "#4d9221"
            ],
            [
             1,
             "#276419"
            ]
           ],
           "sequential": [
            [
             0,
             "#0d0887"
            ],
            [
             0.1111111111111111,
             "#46039f"
            ],
            [
             0.2222222222222222,
             "#7201a8"
            ],
            [
             0.3333333333333333,
             "#9c179e"
            ],
            [
             0.4444444444444444,
             "#bd3786"
            ],
            [
             0.5555555555555556,
             "#d8576b"
            ],
            [
             0.6666666666666666,
             "#ed7953"
            ],
            [
             0.7777777777777778,
             "#fb9f3a"
            ],
            [
             0.8888888888888888,
             "#fdca26"
            ],
            [
             1,
             "#f0f921"
            ]
           ],
           "sequentialminus": [
            [
             0,
             "#0d0887"
            ],
            [
             0.1111111111111111,
             "#46039f"
            ],
            [
             0.2222222222222222,
             "#7201a8"
            ],
            [
             0.3333333333333333,
             "#9c179e"
            ],
            [
             0.4444444444444444,
             "#bd3786"
            ],
            [
             0.5555555555555556,
             "#d8576b"
            ],
            [
             0.6666666666666666,
             "#ed7953"
            ],
            [
             0.7777777777777778,
             "#fb9f3a"
            ],
            [
             0.8888888888888888,
             "#fdca26"
            ],
            [
             1,
             "#f0f921"
            ]
           ]
          },
          "colorway": [
           "#636efa",
           "#EF553B",
           "#00cc96",
           "#ab63fa",
           "#FFA15A",
           "#19d3f3",
           "#FF6692",
           "#B6E880",
           "#FF97FF",
           "#FECB52"
          ],
          "font": {
           "color": "#2a3f5f"
          },
          "geo": {
           "bgcolor": "white",
           "lakecolor": "white",
           "landcolor": "#E5ECF6",
           "showlakes": true,
           "showland": true,
           "subunitcolor": "white"
          },
          "hoverlabel": {
           "align": "left"
          },
          "hovermode": "closest",
          "mapbox": {
           "style": "light"
          },
          "paper_bgcolor": "white",
          "plot_bgcolor": "#E5ECF6",
          "polar": {
           "angularaxis": {
            "gridcolor": "white",
            "linecolor": "white",
            "ticks": ""
           },
           "bgcolor": "#E5ECF6",
           "radialaxis": {
            "gridcolor": "white",
            "linecolor": "white",
            "ticks": ""
           }
          },
          "scene": {
           "xaxis": {
            "backgroundcolor": "#E5ECF6",
            "gridcolor": "white",
            "gridwidth": 2,
            "linecolor": "white",
            "showbackground": true,
            "ticks": "",
            "zerolinecolor": "white"
           },
           "yaxis": {
            "backgroundcolor": "#E5ECF6",
            "gridcolor": "white",
            "gridwidth": 2,
            "linecolor": "white",
            "showbackground": true,
            "ticks": "",
            "zerolinecolor": "white"
           },
           "zaxis": {
            "backgroundcolor": "#E5ECF6",
            "gridcolor": "white",
            "gridwidth": 2,
            "linecolor": "white",
            "showbackground": true,
            "ticks": "",
            "zerolinecolor": "white"
           }
          },
          "shapedefaults": {
           "line": {
            "color": "#2a3f5f"
           }
          },
          "ternary": {
           "aaxis": {
            "gridcolor": "white",
            "linecolor": "white",
            "ticks": ""
           },
           "baxis": {
            "gridcolor": "white",
            "linecolor": "white",
            "ticks": ""
           },
           "bgcolor": "#E5ECF6",
           "caxis": {
            "gridcolor": "white",
            "linecolor": "white",
            "ticks": ""
           }
          },
          "title": {
           "x": 0.05
          },
          "xaxis": {
           "automargin": true,
           "gridcolor": "white",
           "linecolor": "white",
           "ticks": "",
           "title": {
            "standoff": 15
           },
           "zerolinecolor": "white",
           "zerolinewidth": 2
          },
          "yaxis": {
           "automargin": true,
           "gridcolor": "white",
           "linecolor": "white",
           "ticks": "",
           "title": {
            "standoff": 15
           },
           "zerolinecolor": "white",
           "zerolinewidth": 2
          }
         }
        },
        "xaxis": {
         "anchor": "y",
         "domain": [
          0,
          1
         ],
         "title": {
          "text": "PC1"
         }
        },
        "yaxis": {
         "anchor": "x",
         "domain": [
          0,
          1
         ],
         "title": {
          "text": "PC2"
         }
        }
       }
      }
     },
     "metadata": {},
     "output_type": "display_data"
    }
   ],
   "source": [
    "import numpy as np\n",
    "from anomaly_detection import features\n",
    "\n",
    "# Compute anomaly contributions for the entire dataset\n",
    "anomaly_contributions = features.compute_anomaly_contributions(tab_df.to_numpy(), gamma, anomaly_scores)\n",
    "\n",
    "# Propagate anomaly contributions back to input features\n",
    "feature_contributions = features.propagate_feature_contributions(anomaly_contributions, tab_df.to_numpy())\n",
    "\n",
    "# Plot a scatter plot the data points with the anomaly score as the color use PCA to make it 2D and make it interactive so that you can hover over the points to see the feature contributions\n",
    "import plotly.express as px\n",
    "import pandas as pd\n",
    "from sklearn.decomposition import PCA\n",
    "\n",
    "# Perform PCA on the data\n",
    "pca = PCA(n_components=3)\n",
    "pca.fit(tab_df)\n",
    "pca_tab_df = pca.transform(tab_df)\n",
    "pca_tab_df = pd.DataFrame(pca_tab_df, columns=['PC1', 'PC2', 'PC3'])\n",
    "\n",
    "# Create a DataFrame with the PCA results and the anomaly scores\n",
    "pca_tab_df['Anomaly Score'] = anomaly_scores\n",
    "pca_tab_df['Anomaly Score'] = (pca_tab_df['Anomaly Score'] - pca_tab_df['Anomaly Score'].min()) / (pca_tab_df['Anomaly Score'].max() - pca_tab_df['Anomaly Score'].min())\n",
    "\n",
    "# Add the original index to the DataFrame\n",
    "pca_tab_df['Index'] = tab_df.index\n",
    "\n",
    "# Feature names\n",
    "feature_names = tab_df.columns[:]\n",
    "\n",
    "# Add the feature contributions to the DataFrame\n",
    "for i in range(tab_df.shape[1]):\n",
    "    pca_tab_df[feature_names[i]] = feature_contributions[:, i]\n",
    "\n",
    "# Plot the scatter plot\n",
    "fig = px.scatter(pca_tab_df, x='PC1', y='PC2', color='Anomaly Score', hover_data=['Index'] + list(pca_tab_df.columns))\n",
    "fig.update_traces(marker=dict(size=5))\n",
    "fig.show()\n",
    "\n",
    "# Save the plot as an HTML file\n",
    "fig.write_html('plot_1.html')"
   ]
  },
  {
   "cell_type": "markdown",
   "metadata": {},
   "source": [
    "Now plotted an interactive plot only for the outliers obtained through extreme-value analysis by channel and region."
   ]
  },
  {
   "cell_type": "code",
   "execution_count": 9,
   "metadata": {},
   "outputs": [
    {
     "data": {
      "application/vnd.plotly.v1+json": {
       "config": {
        "plotlyServerURL": "https://plot.ly"
       },
       "data": [
        {
         "customdata": [
          [
           66,
           -0.6893151572564569,
           5.465299751176012,
           66,
           0.5236698184578791,
           0.05587940480496046,
           0.041407309626178036,
           0.12816521358424712,
           0.09864744825252397,
           0.15223080527421132
          ],
          [
           75,
           -0.17871353104517929,
           5.135833491329703,
           75,
           0.09900061766710605,
           0.0671624245634922,
           0.49689500695395405,
           0.07274229593848063,
           0.23042504056289698,
           0.03377461431407018
          ],
          [
           95,
           -2.1154566447116148,
           4.96085909696303,
           95,
           0.6430812091834507,
           0.0430806072178493,
           0.04564069683072921,
           0.08916428026039998,
           0.1405333171800392,
           0.03849988932753163
          ],
          [
           97,
           -0.8125674063969113,
           5.13974480331625,
           97,
           0.2663743914382778,
           0.20140444413594336,
           0.15271679230144866,
           0.05733990011916366,
           0.1905908846400823,
           0.13157358736508415
          ],
          [
           98,
           -0.843757448717007,
           5.101275214270564,
           98,
           0.24168278057664797,
           0.28871707098323146,
           0.1291026645974194,
           0.05348164508296264,
           0.19019947270396792,
           0.09681636605577067
          ],
          [
           128,
           -0.29926675157327765,
           4.979108906460249,
           128,
           0.4236725111884641,
           0.07138084875868991,
           0.04614940393558861,
           0.16888213006466302,
           0.07859773130276146,
           0.2113173747498331
          ],
          [
           154,
           0.6270591509780495,
           6.451970198695261,
           154,
           0.14177494026358256,
           0.22704357571338094,
           0.21522052385823623,
           0.1381379489919313,
           0.1568505368635461,
           0.12097247430932292
          ],
          [
           181,
           -0.27815517097870557,
           5.425697111230083,
           181,
           0.2877936883837328,
           0.1562010942441899,
           0.07940428533205637,
           0.19473217006440904,
           0.11923198009380168,
           0.16263678188181022
          ],
          [
           183,
           -2.450935826332676,
           6.351284775371326,
           183,
           0.10275200864218746,
           0.1598468381721281,
           0.06807068467864011,
           0.23403157820483117,
           0.08697682395933103,
           0.3483220663428822
          ],
          [
           184,
           0.32554269372872624,
           4.889240043957154,
           184,
           0.31766038990770423,
           0.09800310499173724,
           0.04472288275310787,
           0.22318491690231887,
           0.11520796483712642,
           0.20122074060800543
          ],
          [
           289,
           1.8643339159559071,
           4.9511611590769355,
           289,
           0.1836715178316815,
           0.19480584375963927,
           0.18418274106606125,
           0.047402870462866835,
           0.21124311596146708,
           0.17869391091828393
          ],
          [
           355,
           -0.6522946032356569,
           4.799571769408889,
           355,
           0.40922942693494435,
           0.1193194171823829,
           0.07024516313875083,
           0.13692131996042475,
           0.15212357744071864,
           0.11216109534277866
          ],
          [
           356,
           0.4131464490628177,
           4.95414859976972,
           356,
           0.11464827210020019,
           0.27492802442810943,
           0.2757221424719252,
           0.06003774899839923,
           0.23467143429157913,
           0.0399923777097868
          ],
          [
           412,
           -0.23607286965181973,
           5.063098579827112,
           412,
           0.45456787760108164,
           0.040844863301810204,
           0.06829929214691265,
           0.1898130400097794,
           0.10182432598832007,
           0.14465060095209584
          ],
          [
           299,
           -0.38417941557755064,
           4.168297722918898,
           299,
           0.3629472606261545,
           0.13143951830639325,
           0.08820722200399322,
           0.16762713732506251,
           0.1572437527794367,
           0.0925351089589597
          ],
          [
           325,
           -1.9406247324037604,
           5.055473510182843,
           325,
           0.14361156926247937,
           0.11382470749752398,
           0.0718612442011089,
           0.46598109749186734,
           0.07292089524873309,
           0.13180048629828747
          ],
          [
           327,
           -0.7714655742825209,
           4.136013921247359,
           327,
           0.33121296906462944,
           0.12765105507543392,
           0.10377281477122281,
           0.12746933139686098,
           0.25246479620319556,
           0.05742903348865714
          ],
          [
           338,
           -4.243259787109237,
           6.0112447461478125,
           338,
           0.4584923233345815,
           0.13537167386201976,
           0.034886823132965476,
           0.1618632262451231,
           0.17985838123525327,
           0.029527572190056882
          ],
          [
           47,
           -0.14360169208379414,
           5.874879737479048,
           47,
           0.14720249523110346,
           0.20372818954388813,
           0.16602757225281095,
           0.10037950923691094,
           0.2678155187334898,
           0.11484671500179673
          ],
          [
           65,
           -0.5949935326563072,
           6.227109895480641,
           65,
           0.32920097538801046,
           0.09269804686629068,
           0.13213799232794612,
           0.17301732724828106,
           0.2418860128292982,
           0.03105964534017353
          ],
          [
           85,
           0.7890471100463821,
           5.680771330796747,
           85,
           0.08235373079056438,
           0.19364377654972756,
           0.2474732721048684,
           0.04408022215265435,
           0.3699325964985688,
           0.06251640190361656
          ],
          [
           357,
           -0.49057236924854997,
           5.564452722364329,
           357,
           0.4575172931420373,
           0.06550972539169533,
           0.09646539589965776,
           0.13947500949861497,
           0.1433289356636717,
           0.09770364040432297
          ],
          [
           333,
           1.8425481518137254,
           5.134282459009453,
           333,
           0.07243790412746157,
           0.04065649727470583,
           0.24498633677550186,
           0.17010877091451018,
           0.43338078519902096,
           0.03842970570879954
          ]
         ],
         "hovertemplate": "PC1=%{x}<br>PC2=%{y}<br>Index=%{customdata[3]}<br>PC3=%{customdata[1]}<br>Anomaly Score=%{marker.color}<br>Fresh=%{customdata[4]}<br>Milk=%{customdata[5]}<br>Grocery=%{customdata[6]}<br>Frozen=%{customdata[7]}<br>Detergents_Paper=%{customdata[8]}<br>Delicassen=%{customdata[9]}<extra></extra>",
         "legendgroup": "",
         "marker": {
          "color": [
           5.465299751176012,
           5.135833491329703,
           4.96085909696303,
           5.13974480331625,
           5.101275214270564,
           4.979108906460249,
           6.451970198695261,
           5.425697111230083,
           6.351284775371326,
           4.889240043957154,
           4.9511611590769355,
           4.799571769408889,
           4.95414859976972,
           5.063098579827112,
           4.168297722918898,
           5.055473510182843,
           4.136013921247359,
           6.0112447461478125,
           5.874879737479048,
           6.227109895480641,
           5.680771330796747,
           5.564452722364329,
           5.134282459009453
          ],
          "coloraxis": "coloraxis",
          "size": 5,
          "symbol": "circle"
         },
         "mode": "markers",
         "name": "",
         "orientation": "v",
         "showlegend": false,
         "type": "scatter",
         "x": [
          1.5938507624069924,
          -4.424152226266276,
          0.25666383905119083,
          -2.898692634003753,
          -3.0264967279463395,
          1.078074429752542,
          -3.876665739916903,
          1.8445644590315613,
          0.5262599946936195,
          -0.49727421202620015,
          -4.14980575129125,
          -1.238151632094926,
          -4.585499191933656,
          2.0669608095918974,
          -1.0194269344009772,
          0.5281088348814276,
          -1.639385690617722,
          -1.9055841141449203,
          4.036043535118985,
          5.259977879766797,
          5.055483356571379,
          2.546600146761584,
          4.205770419983908
         ],
         "xaxis": "x",
         "y": [
          -4.739891640354072,
          0.48954370598962527,
          -3.7029944066152005,
          -3.7578628967420578,
          -3.5008967814779837,
          -4.109219725077624,
          -4.829596795220651,
          4.7775715444211855,
          5.031634363992254,
          -4.332158224843074,
          -0.4571316847070275,
          -4.1377680699519335,
          -0.01812702547503875,
          -4.1565286337013525,
          -3.419713098477576,
          4.164169139844908,
          -2.962882509972065,
          -2.5218688231885853,
          3.976087237207313,
          -2.8306094986525316,
          2.0053591621477977,
          -4.311389887598635,
          -0.11263221647189958
         ],
         "yaxis": "y"
        }
       ],
       "layout": {
        "coloraxis": {
         "colorbar": {
          "title": {
           "text": "Anomaly Score"
          }
         },
         "colorscale": [
          [
           0,
           "#0d0887"
          ],
          [
           0.1111111111111111,
           "#46039f"
          ],
          [
           0.2222222222222222,
           "#7201a8"
          ],
          [
           0.3333333333333333,
           "#9c179e"
          ],
          [
           0.4444444444444444,
           "#bd3786"
          ],
          [
           0.5555555555555556,
           "#d8576b"
          ],
          [
           0.6666666666666666,
           "#ed7953"
          ],
          [
           0.7777777777777778,
           "#fb9f3a"
          ],
          [
           0.8888888888888888,
           "#fdca26"
          ],
          [
           1,
           "#f0f921"
          ]
         ]
        },
        "legend": {
         "tracegroupgap": 0
        },
        "margin": {
         "t": 60
        },
        "template": {
         "data": {
          "bar": [
           {
            "error_x": {
             "color": "#2a3f5f"
            },
            "error_y": {
             "color": "#2a3f5f"
            },
            "marker": {
             "line": {
              "color": "#E5ECF6",
              "width": 0.5
             },
             "pattern": {
              "fillmode": "overlay",
              "size": 10,
              "solidity": 0.2
             }
            },
            "type": "bar"
           }
          ],
          "barpolar": [
           {
            "marker": {
             "line": {
              "color": "#E5ECF6",
              "width": 0.5
             },
             "pattern": {
              "fillmode": "overlay",
              "size": 10,
              "solidity": 0.2
             }
            },
            "type": "barpolar"
           }
          ],
          "carpet": [
           {
            "aaxis": {
             "endlinecolor": "#2a3f5f",
             "gridcolor": "white",
             "linecolor": "white",
             "minorgridcolor": "white",
             "startlinecolor": "#2a3f5f"
            },
            "baxis": {
             "endlinecolor": "#2a3f5f",
             "gridcolor": "white",
             "linecolor": "white",
             "minorgridcolor": "white",
             "startlinecolor": "#2a3f5f"
            },
            "type": "carpet"
           }
          ],
          "choropleth": [
           {
            "colorbar": {
             "outlinewidth": 0,
             "ticks": ""
            },
            "type": "choropleth"
           }
          ],
          "contour": [
           {
            "colorbar": {
             "outlinewidth": 0,
             "ticks": ""
            },
            "colorscale": [
             [
              0,
              "#0d0887"
             ],
             [
              0.1111111111111111,
              "#46039f"
             ],
             [
              0.2222222222222222,
              "#7201a8"
             ],
             [
              0.3333333333333333,
              "#9c179e"
             ],
             [
              0.4444444444444444,
              "#bd3786"
             ],
             [
              0.5555555555555556,
              "#d8576b"
             ],
             [
              0.6666666666666666,
              "#ed7953"
             ],
             [
              0.7777777777777778,
              "#fb9f3a"
             ],
             [
              0.8888888888888888,
              "#fdca26"
             ],
             [
              1,
              "#f0f921"
             ]
            ],
            "type": "contour"
           }
          ],
          "contourcarpet": [
           {
            "colorbar": {
             "outlinewidth": 0,
             "ticks": ""
            },
            "type": "contourcarpet"
           }
          ],
          "heatmap": [
           {
            "colorbar": {
             "outlinewidth": 0,
             "ticks": ""
            },
            "colorscale": [
             [
              0,
              "#0d0887"
             ],
             [
              0.1111111111111111,
              "#46039f"
             ],
             [
              0.2222222222222222,
              "#7201a8"
             ],
             [
              0.3333333333333333,
              "#9c179e"
             ],
             [
              0.4444444444444444,
              "#bd3786"
             ],
             [
              0.5555555555555556,
              "#d8576b"
             ],
             [
              0.6666666666666666,
              "#ed7953"
             ],
             [
              0.7777777777777778,
              "#fb9f3a"
             ],
             [
              0.8888888888888888,
              "#fdca26"
             ],
             [
              1,
              "#f0f921"
             ]
            ],
            "type": "heatmap"
           }
          ],
          "heatmapgl": [
           {
            "colorbar": {
             "outlinewidth": 0,
             "ticks": ""
            },
            "colorscale": [
             [
              0,
              "#0d0887"
             ],
             [
              0.1111111111111111,
              "#46039f"
             ],
             [
              0.2222222222222222,
              "#7201a8"
             ],
             [
              0.3333333333333333,
              "#9c179e"
             ],
             [
              0.4444444444444444,
              "#bd3786"
             ],
             [
              0.5555555555555556,
              "#d8576b"
             ],
             [
              0.6666666666666666,
              "#ed7953"
             ],
             [
              0.7777777777777778,
              "#fb9f3a"
             ],
             [
              0.8888888888888888,
              "#fdca26"
             ],
             [
              1,
              "#f0f921"
             ]
            ],
            "type": "heatmapgl"
           }
          ],
          "histogram": [
           {
            "marker": {
             "pattern": {
              "fillmode": "overlay",
              "size": 10,
              "solidity": 0.2
             }
            },
            "type": "histogram"
           }
          ],
          "histogram2d": [
           {
            "colorbar": {
             "outlinewidth": 0,
             "ticks": ""
            },
            "colorscale": [
             [
              0,
              "#0d0887"
             ],
             [
              0.1111111111111111,
              "#46039f"
             ],
             [
              0.2222222222222222,
              "#7201a8"
             ],
             [
              0.3333333333333333,
              "#9c179e"
             ],
             [
              0.4444444444444444,
              "#bd3786"
             ],
             [
              0.5555555555555556,
              "#d8576b"
             ],
             [
              0.6666666666666666,
              "#ed7953"
             ],
             [
              0.7777777777777778,
              "#fb9f3a"
             ],
             [
              0.8888888888888888,
              "#fdca26"
             ],
             [
              1,
              "#f0f921"
             ]
            ],
            "type": "histogram2d"
           }
          ],
          "histogram2dcontour": [
           {
            "colorbar": {
             "outlinewidth": 0,
             "ticks": ""
            },
            "colorscale": [
             [
              0,
              "#0d0887"
             ],
             [
              0.1111111111111111,
              "#46039f"
             ],
             [
              0.2222222222222222,
              "#7201a8"
             ],
             [
              0.3333333333333333,
              "#9c179e"
             ],
             [
              0.4444444444444444,
              "#bd3786"
             ],
             [
              0.5555555555555556,
              "#d8576b"
             ],
             [
              0.6666666666666666,
              "#ed7953"
             ],
             [
              0.7777777777777778,
              "#fb9f3a"
             ],
             [
              0.8888888888888888,
              "#fdca26"
             ],
             [
              1,
              "#f0f921"
             ]
            ],
            "type": "histogram2dcontour"
           }
          ],
          "mesh3d": [
           {
            "colorbar": {
             "outlinewidth": 0,
             "ticks": ""
            },
            "type": "mesh3d"
           }
          ],
          "parcoords": [
           {
            "line": {
             "colorbar": {
              "outlinewidth": 0,
              "ticks": ""
             }
            },
            "type": "parcoords"
           }
          ],
          "pie": [
           {
            "automargin": true,
            "type": "pie"
           }
          ],
          "scatter": [
           {
            "fillpattern": {
             "fillmode": "overlay",
             "size": 10,
             "solidity": 0.2
            },
            "type": "scatter"
           }
          ],
          "scatter3d": [
           {
            "line": {
             "colorbar": {
              "outlinewidth": 0,
              "ticks": ""
             }
            },
            "marker": {
             "colorbar": {
              "outlinewidth": 0,
              "ticks": ""
             }
            },
            "type": "scatter3d"
           }
          ],
          "scattercarpet": [
           {
            "marker": {
             "colorbar": {
              "outlinewidth": 0,
              "ticks": ""
             }
            },
            "type": "scattercarpet"
           }
          ],
          "scattergeo": [
           {
            "marker": {
             "colorbar": {
              "outlinewidth": 0,
              "ticks": ""
             }
            },
            "type": "scattergeo"
           }
          ],
          "scattergl": [
           {
            "marker": {
             "colorbar": {
              "outlinewidth": 0,
              "ticks": ""
             }
            },
            "type": "scattergl"
           }
          ],
          "scattermapbox": [
           {
            "marker": {
             "colorbar": {
              "outlinewidth": 0,
              "ticks": ""
             }
            },
            "type": "scattermapbox"
           }
          ],
          "scatterpolar": [
           {
            "marker": {
             "colorbar": {
              "outlinewidth": 0,
              "ticks": ""
             }
            },
            "type": "scatterpolar"
           }
          ],
          "scatterpolargl": [
           {
            "marker": {
             "colorbar": {
              "outlinewidth": 0,
              "ticks": ""
             }
            },
            "type": "scatterpolargl"
           }
          ],
          "scatterternary": [
           {
            "marker": {
             "colorbar": {
              "outlinewidth": 0,
              "ticks": ""
             }
            },
            "type": "scatterternary"
           }
          ],
          "surface": [
           {
            "colorbar": {
             "outlinewidth": 0,
             "ticks": ""
            },
            "colorscale": [
             [
              0,
              "#0d0887"
             ],
             [
              0.1111111111111111,
              "#46039f"
             ],
             [
              0.2222222222222222,
              "#7201a8"
             ],
             [
              0.3333333333333333,
              "#9c179e"
             ],
             [
              0.4444444444444444,
              "#bd3786"
             ],
             [
              0.5555555555555556,
              "#d8576b"
             ],
             [
              0.6666666666666666,
              "#ed7953"
             ],
             [
              0.7777777777777778,
              "#fb9f3a"
             ],
             [
              0.8888888888888888,
              "#fdca26"
             ],
             [
              1,
              "#f0f921"
             ]
            ],
            "type": "surface"
           }
          ],
          "table": [
           {
            "cells": {
             "fill": {
              "color": "#EBF0F8"
             },
             "line": {
              "color": "white"
             }
            },
            "header": {
             "fill": {
              "color": "#C8D4E3"
             },
             "line": {
              "color": "white"
             }
            },
            "type": "table"
           }
          ]
         },
         "layout": {
          "annotationdefaults": {
           "arrowcolor": "#2a3f5f",
           "arrowhead": 0,
           "arrowwidth": 1
          },
          "autotypenumbers": "strict",
          "coloraxis": {
           "colorbar": {
            "outlinewidth": 0,
            "ticks": ""
           }
          },
          "colorscale": {
           "diverging": [
            [
             0,
             "#8e0152"
            ],
            [
             0.1,
             "#c51b7d"
            ],
            [
             0.2,
             "#de77ae"
            ],
            [
             0.3,
             "#f1b6da"
            ],
            [
             0.4,
             "#fde0ef"
            ],
            [
             0.5,
             "#f7f7f7"
            ],
            [
             0.6,
             "#e6f5d0"
            ],
            [
             0.7,
             "#b8e186"
            ],
            [
             0.8,
             "#7fbc41"
            ],
            [
             0.9,
             "#4d9221"
            ],
            [
             1,
             "#276419"
            ]
           ],
           "sequential": [
            [
             0,
             "#0d0887"
            ],
            [
             0.1111111111111111,
             "#46039f"
            ],
            [
             0.2222222222222222,
             "#7201a8"
            ],
            [
             0.3333333333333333,
             "#9c179e"
            ],
            [
             0.4444444444444444,
             "#bd3786"
            ],
            [
             0.5555555555555556,
             "#d8576b"
            ],
            [
             0.6666666666666666,
             "#ed7953"
            ],
            [
             0.7777777777777778,
             "#fb9f3a"
            ],
            [
             0.8888888888888888,
             "#fdca26"
            ],
            [
             1,
             "#f0f921"
            ]
           ],
           "sequentialminus": [
            [
             0,
             "#0d0887"
            ],
            [
             0.1111111111111111,
             "#46039f"
            ],
            [
             0.2222222222222222,
             "#7201a8"
            ],
            [
             0.3333333333333333,
             "#9c179e"
            ],
            [
             0.4444444444444444,
             "#bd3786"
            ],
            [
             0.5555555555555556,
             "#d8576b"
            ],
            [
             0.6666666666666666,
             "#ed7953"
            ],
            [
             0.7777777777777778,
             "#fb9f3a"
            ],
            [
             0.8888888888888888,
             "#fdca26"
            ],
            [
             1,
             "#f0f921"
            ]
           ]
          },
          "colorway": [
           "#636efa",
           "#EF553B",
           "#00cc96",
           "#ab63fa",
           "#FFA15A",
           "#19d3f3",
           "#FF6692",
           "#B6E880",
           "#FF97FF",
           "#FECB52"
          ],
          "font": {
           "color": "#2a3f5f"
          },
          "geo": {
           "bgcolor": "white",
           "lakecolor": "white",
           "landcolor": "#E5ECF6",
           "showlakes": true,
           "showland": true,
           "subunitcolor": "white"
          },
          "hoverlabel": {
           "align": "left"
          },
          "hovermode": "closest",
          "mapbox": {
           "style": "light"
          },
          "paper_bgcolor": "white",
          "plot_bgcolor": "#E5ECF6",
          "polar": {
           "angularaxis": {
            "gridcolor": "white",
            "linecolor": "white",
            "ticks": ""
           },
           "bgcolor": "#E5ECF6",
           "radialaxis": {
            "gridcolor": "white",
            "linecolor": "white",
            "ticks": ""
           }
          },
          "scene": {
           "xaxis": {
            "backgroundcolor": "#E5ECF6",
            "gridcolor": "white",
            "gridwidth": 2,
            "linecolor": "white",
            "showbackground": true,
            "ticks": "",
            "zerolinecolor": "white"
           },
           "yaxis": {
            "backgroundcolor": "#E5ECF6",
            "gridcolor": "white",
            "gridwidth": 2,
            "linecolor": "white",
            "showbackground": true,
            "ticks": "",
            "zerolinecolor": "white"
           },
           "zaxis": {
            "backgroundcolor": "#E5ECF6",
            "gridcolor": "white",
            "gridwidth": 2,
            "linecolor": "white",
            "showbackground": true,
            "ticks": "",
            "zerolinecolor": "white"
           }
          },
          "shapedefaults": {
           "line": {
            "color": "#2a3f5f"
           }
          },
          "ternary": {
           "aaxis": {
            "gridcolor": "white",
            "linecolor": "white",
            "ticks": ""
           },
           "baxis": {
            "gridcolor": "white",
            "linecolor": "white",
            "ticks": ""
           },
           "bgcolor": "#E5ECF6",
           "caxis": {
            "gridcolor": "white",
            "linecolor": "white",
            "ticks": ""
           }
          },
          "title": {
           "x": 0.05
          },
          "xaxis": {
           "automargin": true,
           "gridcolor": "white",
           "linecolor": "white",
           "ticks": "",
           "title": {
            "standoff": 15
           },
           "zerolinecolor": "white",
           "zerolinewidth": 2
          },
          "yaxis": {
           "automargin": true,
           "gridcolor": "white",
           "linecolor": "white",
           "ticks": "",
           "title": {
            "standoff": 15
           },
           "zerolinecolor": "white",
           "zerolinewidth": 2
          }
         }
        },
        "xaxis": {
         "anchor": "y",
         "domain": [
          0,
          1
         ],
         "title": {
          "text": "PC1"
         }
        },
        "yaxis": {
         "anchor": "x",
         "domain": [
          0,
          1
         ],
         "title": {
          "text": "PC2"
         }
        }
       }
      }
     },
     "metadata": {},
     "output_type": "display_data"
    }
   ],
   "source": [
    "# Perform PCA on the data\n",
    "pca = PCA(n_components=3)\n",
    "pca.fit(tab_df)\n",
    "pca_tab_df = pca.transform(tab_df)\n",
    "pca_tab_df = pd.DataFrame(pca_tab_df, columns=['PC1', 'PC2', 'PC3'])\n",
    "\n",
    "# Create a DataFrame with the PCA results and the anomaly scores\n",
    "pca_tab_df['Anomaly Score'] = anomaly_scores\n",
    "\n",
    "# Add the original index to the DataFrame\n",
    "pca_tab_df['Index'] = tab_df.index\n",
    "\n",
    "# Feature names\n",
    "feature_names = tab_df.columns[:]\n",
    "\n",
    "# Add the feature contributions to the DataFrame\n",
    "for i in range(tab_df.shape[1]):\n",
    "    pca_tab_df[feature_names[i]] = feature_contributions[:, i]\n",
    "\n",
    "\n",
    "pca_tab_df = pca_tab_df.iloc[outliers_grouped['Original Index'], :]\n",
    "\n",
    "# Plot the scatter plot\n",
    "fig = px.scatter(pca_tab_df, x='PC1', y='PC2', color='Anomaly Score', hover_data=['Index'] + list(pca_tab_df.columns))\n",
    "fig.update_traces(marker=dict(size=5))\n",
    "fig.show()\n",
    "\n",
    "# Save the plot as an HTML file\n",
    "fig.write_html('small_interactive_plot.html')"
   ]
  }
 ],
 "metadata": {
  "kernelspec": {
   "display_name": "Why-anomalous",
   "language": "python",
   "name": "python3"
  },
  "language_info": {
   "codemirror_mode": {
    "name": "ipython",
    "version": 3
   },
   "file_extension": ".py",
   "mimetype": "text/x-python",
   "name": "python",
   "nbconvert_exporter": "python",
   "pygments_lexer": "ipython3",
   "version": "3.12.2"
  }
 },
 "nbformat": 4,
 "nbformat_minor": 2
}
